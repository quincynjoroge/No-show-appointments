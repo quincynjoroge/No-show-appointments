{
 "cells": [
  {
   "cell_type": "markdown",
   "metadata": {},
   "source": [
    "# Project: Investigate a Dataset - No_show_appointments\n",
    "\n",
    "## Table of Contents\n",
    "<ul>\n",
    "<li><a href=\"#intro\">Introduction</a></li>\n",
    "<li><a href=\"#wrangling\">Data Wrangling</a></li>\n",
    "<li><a href=\"#eda\">Exploratory Data Analysis</a></li>\n",
    "<li><a href=\"#conclusions\">Conclusions</a></li>\n",
    "</ul>"
   ]
  },
  {
   "cell_type": "markdown",
   "metadata": {},
   "source": [
    "<a id='intro'></a>\n",
    "## Introduction\n",
    "\n",
    "### Dataset Description \n",
    "\n",
    "#### Context\n",
    "The dataset has information collected from 100k medical appointments in Brazil and focuses on answering the question, whether a patient will show up for their appointment or not. \n",
    "\n",
    "#### Content\n",
    "The dataset has 110527 rows which represent the medical appointments and 14 variables/characteristics.\n",
    "\n",
    "#### Data Dictionary\n",
    "Below is a list of the variables and their definitions.\n",
    "##### 1. Patient Id\n",
    "Identification of a patient\n",
    "##### 2. Appointment\n",
    "Identification of an appointment\n",
    "##### 3. Gender\n",
    "The gender of the patient. Male or Female(M/F)\n",
    "##### 4. Scheduled day\n",
    "The day of the actual appointment. When the patient is to meet the doctor.(_Tells us on what day the patient set up their appointment._)\n",
    "##### 5. Appointment day\n",
    "The day someone called and registered the appointment. This is before the appointment day.\n",
    "##### 6. Age\n",
    "How old the patient is.\n",
    "##### 7. Neighbourhood\n",
    "Where the appointment takes place. _Indicates the location of the hospital_.\n",
    "##### 8. Scholarship\n",
    "True or False _indicates whether or not the patient is enrolled in Brasilian welfare program Bolsa Família._\n",
    "##### 9. Hypertension\n",
    "Whether patient has hypertension. **True - 1** or **False - 0** \n",
    "##### 10. Diabetes\n",
    "Whether patient has Diabetes. **True - 1** or **False - 0** \n",
    "##### 11. Alcoholism\n",
    "Whether patient has been diagnosed with alcoholism. **True - 1** or **False - 0** \n",
    "##### 12.Hand-cap\n",
    "Whether patient is hand-cap. **True - 1** or **False - 0** \n",
    "##### 13. SMS_received\n",
    "Whether a 1 or more messages were sent to the patient.\n",
    "##### 14. No-show\n",
    "_**‘No’- 0**_ if the patient showed up to their appointment, and _**‘Yes’- 1**_ if they did not show up.\n",
    "\n",
    "\n",
    "### Question(s) for Analysis\n",
    "\n",
    "1. What is the gender ratio of individuals who showed up for their appointment vs those who did not?\n",
    "2. What is the proportion of people that showed up for their appointment and received an SMS?\n",
    "3. Which hospital location had majority show-up appointments and which one had the least show-up?\n",
    "4. Does having a scholarship affect whether or not someone shows up for their appointment?\n"
   ]
  },
  {
   "cell_type": "code",
   "execution_count": 1,
   "metadata": {},
   "outputs": [],
   "source": [
    "# Importing necessary packages for our analysis\n",
    "import pandas as pd\n",
    "import numpy as np\n",
    "import matplotlib.pyplot as plt\n",
    "import seaborn as sns\n",
    "\n",
    "# Including magic word to view the visulizations within the notebook\n",
    "%matplotlib inline\n"
   ]
  },
  {
   "cell_type": "code",
   "execution_count": 182,
   "metadata": {},
   "outputs": [
    {
     "name": "stdout",
     "output_type": "stream",
     "text": [
      "Collecting pandas==0.25.0"
     ]
    },
    {
     "name": "stderr",
     "output_type": "stream",
     "text": [
      "  ERROR: Command errored out with exit status 1:\n",
      "   command: 'C:\\Users\\QUINCY\\anaconda3\\python.exe' -u -c 'import io, os, sys, setuptools, tokenize; sys.argv[0] = '\"'\"'C:\\\\Users\\\\QUINCY\\\\AppData\\\\Local\\\\Temp\\\\pip-install-gskx6y8q\\\\pandas_a2cfc6364ea246d6a72b32831267c557\\\\setup.py'\"'\"'; __file__='\"'\"'C:\\\\Users\\\\QUINCY\\\\AppData\\\\Local\\\\Temp\\\\pip-install-gskx6y8q\\\\pandas_a2cfc6364ea246d6a72b32831267c557\\\\setup.py'\"'\"';f = getattr(tokenize, '\"'\"'open'\"'\"', open)(__file__) if os.path.exists(__file__) else io.StringIO('\"'\"'from setuptools import setup; setup()'\"'\"');code = f.read().replace('\"'\"'\\r\\n'\"'\"', '\"'\"'\\n'\"'\"');f.close();exec(compile(code, __file__, '\"'\"'exec'\"'\"'))' bdist_wheel -d 'C:\\Users\\QUINCY\\AppData\\Local\\Temp\\pip-wheel-cq0x__ne'\n",
      "       cwd: C:\\Users\\QUINCY\\AppData\\Local\\Temp\\pip-install-gskx6y8q\\pandas_a2cfc6364ea246d6a72b32831267c557\\\n",
      "  Complete output (909 lines):\n",
      "  C:\\Users\\QUINCY\\AppData\\Local\\Temp\\pip-install-gskx6y8q\\pandas_a2cfc6364ea246d6a72b32831267c557\\setup.py:53: DeprecationWarning: distutils Version classes are deprecated. Use packaging.version instead.\n",
      "    _CYTHON_INSTALLED = ver >= LooseVersion(min_cython_ver)\n",
      "  running bdist_wheel\n",
      "  running build\n",
      "  running build_py\n",
      "  creating build\n",
      "  creating build\\lib.win-amd64-3.9\n",
      "  creating build\\lib.win-amd64-3.9\\pandas\n",
      "  copying pandas\\conftest.py -> build\\lib.win-amd64-3.9\\pandas\n",
      "  copying pandas\\testing.py -> build\\lib.win-amd64-3.9\\pandas\n",
      "  copying pandas\\_typing.py -> build\\lib.win-amd64-3.9\\pandas\n",
      "  copying pandas\\_version.py -> build\\lib.win-amd64-3.9\\pandas\n",
      "  copying pandas\\__init__.py -> build\\lib.win-amd64-3.9\\pandas\n",
      "  creating build\\lib.win-amd64-3.9\\pandas\\api\n",
      "  copying pandas\\api\\__init__.py -> build\\lib.win-amd64-3.9\\pandas\\api\n",
      "  creating build\\lib.win-amd64-3.9\\pandas\\arrays\n",
      "  copying pandas\\arrays\\__init__.py -> build\\lib.win-amd64-3.9\\pandas\\arrays\n",
      "  creating build\\lib.win-amd64-3.9\\pandas\\compat\n",
      "  copying pandas\\compat\\chainmap.py -> build\\lib.win-amd64-3.9\\pandas\\compat\n",
      "  copying pandas\\compat\\pickle_compat.py -> build\\lib.win-amd64-3.9\\pandas\\compat\n",
      "  copying pandas\\compat\\_optional.py -> build\\lib.win-amd64-3.9\\pandas\\compat\n",
      "  copying pandas\\compat\\__init__.py -> build\\lib.win-amd64-3.9\\pandas\\compat\n",
      "  creating build\\lib.win-amd64-3.9\\pandas\\core\n",
      "  copying pandas\\core\\accessor.py -> build\\lib.win-amd64-3.9\\pandas\\core\n",
      "  copying pandas\\core\\algorithms.py -> build\\lib.win-amd64-3.9\\pandas\\core\n",
      "  copying pandas\\core\\api.py -> build\\lib.win-amd64-3.9\\pandas\\core\n",
      "  copying pandas\\core\\apply.py -> build\\lib.win-amd64-3.9\\pandas\\core\n",
      "  copying pandas\\core\\base.py -> build\\lib.win-amd64-3.9\\pandas\\core\n",
      "  copying pandas\\core\\common.py -> build\\lib.win-amd64-3.9\\pandas\\core\n",
      "  copying pandas\\core\\config_init.py -> build\\lib.win-amd64-3.9\\pandas\\core\n",
      "  copying pandas\\core\\frame.py -> build\\lib.win-amd64-3.9\\pandas\\core\n",
      "  copying pandas\\core\\generic.py -> build\\lib.win-amd64-3.9\\pandas\\core\n",
      "  copying pandas\\core\\index.py -> build\\lib.win-amd64-3.9\\pandas\\core\n",
      "  copying pandas\\core\\indexers.py -> build\\lib.win-amd64-3.9\\pandas\\core\n",
      "  copying pandas\\core\\indexing.py -> build\\lib.win-amd64-3.9\\pandas\\core\n",
      "  copying pandas\\core\\missing.py -> build\\lib.win-amd64-3.9\\pandas\\core\n",
      "  copying pandas\\core\\nanops.py -> build\\lib.win-amd64-3.9\\pandas\\core\n",
      "  copying pandas\\core\\resample.py -> build\\lib.win-amd64-3.9\\pandas\\core\n",
      "  copying pandas\\core\\series.py -> build\\lib.win-amd64-3.9\\pandas\\core\n",
      "  copying pandas\\core\\sorting.py -> build\\lib.win-amd64-3.9\\pandas\\core\n",
      "  copying pandas\\core\\strings.py -> build\\lib.win-amd64-3.9\\pandas\\core\n",
      "  copying pandas\\core\\window.py -> build\\lib.win-amd64-3.9\\pandas\\core\n",
      "  copying pandas\\core\\__init__.py -> build\\lib.win-amd64-3.9\\pandas\\core\n",
      "  creating build\\lib.win-amd64-3.9\\pandas\\errors\n",
      "  copying pandas\\errors\\__init__.py -> build\\lib.win-amd64-3.9\\pandas\\errors\n",
      "  creating build\\lib.win-amd64-3.9\\pandas\\io\n",
      "  copying pandas\\io\\api.py -> build\\lib.win-amd64-3.9\\pandas\\io\n",
      "  copying pandas\\io\\clipboards.py -> build\\lib.win-amd64-3.9\\pandas\\io\n",
      "  copying pandas\\io\\common.py -> build\\lib.win-amd64-3.9\\pandas\\io\n",
      "  copying pandas\\io\\date_converters.py -> build\\lib.win-amd64-3.9\\pandas\\io\n",
      "  copying pandas\\io\\feather_format.py -> build\\lib.win-amd64-3.9\\pandas\\io\n",
      "  copying pandas\\io\\gbq.py -> build\\lib.win-amd64-3.9\\pandas\\io\n",
      "  copying pandas\\io\\gcs.py -> build\\lib.win-amd64-3.9\\pandas\\io\n",
      "  copying pandas\\io\\html.py -> build\\lib.win-amd64-3.9\\pandas\\io\n",
      "  copying pandas\\io\\packers.py -> build\\lib.win-amd64-3.9\\pandas\\io\n",
      "  copying pandas\\io\\parquet.py -> build\\lib.win-amd64-3.9\\pandas\\io\n",
      "  copying pandas\\io\\parsers.py -> build\\lib.win-amd64-3.9\\pandas\\io\n",
      "  copying pandas\\io\\pickle.py -> build\\lib.win-amd64-3.9\\pandas\\io\n",
      "  copying pandas\\io\\pytables.py -> build\\lib.win-amd64-3.9\\pandas\\io\n",
      "  copying pandas\\io\\s3.py -> build\\lib.win-amd64-3.9\\pandas\\io\n",
      "  copying pandas\\io\\spss.py -> build\\lib.win-amd64-3.9\\pandas\\io\n",
      "  copying pandas\\io\\sql.py -> build\\lib.win-amd64-3.9\\pandas\\io\n",
      "  copying pandas\\io\\stata.py -> build\\lib.win-amd64-3.9\\pandas\\io\n",
      "  copying pandas\\io\\__init__.py -> build\\lib.win-amd64-3.9\\pandas\\io\n",
      "  creating build\\lib.win-amd64-3.9\\pandas\\plotting\n",
      "  copying pandas\\plotting\\_core.py -> build\\lib.win-amd64-3.9\\pandas\\plotting\n",
      "  copying pandas\\plotting\\_misc.py -> build\\lib.win-amd64-3.9\\pandas\\plotting\n",
      "  copying pandas\\plotting\\__init__.py -> build\\lib.win-amd64-3.9\\pandas\\plotting\n",
      "  creating build\\lib.win-amd64-3.9\\pandas\\tests\n",
      "  copying pandas\\tests\\test_algos.py -> build\\lib.win-amd64-3.9\\pandas\\tests\n",
      "  copying pandas\\tests\\test_base.py -> build\\lib.win-amd64-3.9\\pandas\\tests\n",
      "  copying pandas\\tests\\test_common.py -> build\\lib.win-amd64-3.9\\pandas\\tests\n",
      "  copying pandas\\tests\\test_compat.py -> build\\lib.win-amd64-3.9\\pandas\\tests\n",
      "  copying pandas\\tests\\test_downstream.py -> build\\lib.win-amd64-3.9\\pandas\\tests\n",
      "  copying pandas\\tests\\test_errors.py -> build\\lib.win-amd64-3.9\\pandas\\tests\n",
      "  copying pandas\\tests\\test_expressions.py -> build\\lib.win-amd64-3.9\\pandas\\tests\n",
      "  copying pandas\\tests\\test_join.py -> build\\lib.win-amd64-3.9\\pandas\\tests\n",
      "  copying pandas\\tests\\test_lib.py -> build\\lib.win-amd64-3.9\\pandas\\tests\n",
      "  copying pandas\\tests\\test_multilevel.py -> build\\lib.win-amd64-3.9\\pandas\\tests\n",
      "  copying pandas\\tests\\test_nanops.py -> build\\lib.win-amd64-3.9\\pandas\\tests\n",
      "  copying pandas\\tests\\test_optional_dependency.py -> build\\lib.win-amd64-3.9\\pandas\\tests\n",
      "  copying pandas\\tests\\test_register_accessor.py -> build\\lib.win-amd64-3.9\\pandas\\tests\n",
      "  copying pandas\\tests\\test_sorting.py -> build\\lib.win-amd64-3.9\\pandas\\tests\n"
     ]
    },
    {
     "name": "stdout",
     "output_type": "stream",
     "text": [
      "\n",
      "  Using cached pandas-0.25.0.tar.gz (12.6 MB)\n",
      "Requirement already satisfied: python-dateutil>=2.6.1 in c:\\users\\quincy\\anaconda3\\lib\\site-packages (from pandas==0.25.0) (2.8.2)\n",
      "Requirement already satisfied: pytz>=2017.2 in c:\\users\\quincy\\anaconda3\\lib\\site-packages (from pandas==0.25.0) (2021.3)\n",
      "Requirement already satisfied: numpy>=1.13.3 in c:\\users\\quincy\\anaconda3\\lib\\site-packages (from pandas==0.25.0) (1.21.5)\n",
      "Requirement already satisfied: six>=1.5 in c:\\users\\quincy\\anaconda3\\lib\\site-packages (from python-dateutil>=2.6.1->pandas==0.25.0) (1.16.0)\n",
      "Building wheels for collected packages: pandas\n",
      "  Building wheel for pandas (setup.py): started\n",
      "  Building wheel for pandas (setup.py): finished with status 'error'\n",
      "  Running setup.py clean for pandas\n",
      "Failed to build pandas\n",
      "Installing collected packages: pandas\n",
      "  Attempting uninstall: pandas\n",
      "    Found existing installation: pandas 1.4.2\n",
      "    Uninstalling pandas-1.4.2:\n",
      "      Successfully uninstalled pandas-1.4.2\n",
      "    Running setup.py install for pandas: started\n",
      "    Running setup.py install for pandas: still running...\n",
      "    Running setup.py install for pandas: finished with status 'error'\n",
      "  Rolling back uninstall of pandas\n",
      "  Moving to c:\\users\\quincy\\anaconda3\\lib\\site-packages\\pandas-1.4.2.dist-info\\\n",
      "   from C:\\Users\\QUINCY\\anaconda3\\Lib\\site-packages\\~andas-1.4.2.dist-info\n",
      "  Moving to c:\\users\\quincy\\anaconda3\\lib\\site-packages\\pandas\\__init__.py\n",
      "   from C:\\Users\\QUINCY\\AppData\\Local\\Temp\\pip-uninstall-946qp1sa\\__init__.py\n",
      "  Moving to c:\\users\\quincy\\anaconda3\\lib\\site-packages\\pandas\\__pycache__\\__init__.cpython-39.pyc\n",
      "   from C:\\Users\\QUINCY\\AppData\\Local\\Temp\\pip-uninstall-946qp1sa\\__pycache__\\__init__.cpython-39.pyc\n",
      "  Moving to c:\\users\\quincy\\anaconda3\\lib\\site-packages\\pandas\\__pycache__\\_typing.cpython-39.pyc\n",
      "   from C:\\Users\\QUINCY\\AppData\\Local\\Temp\\pip-uninstall-946qp1sa\\__pycache__\\_typing.cpython-39.pyc\n",
      "  Moving to c:\\users\\quincy\\anaconda3\\lib\\site-packages\\pandas\\__pycache__\\_version.cpython-39.pyc\n",
      "   from C:\\Users\\QUINCY\\AppData\\Local\\Temp\\pip-uninstall-946qp1sa\\__pycache__\\_version.cpython-39.pyc\n",
      "  Moving to c:\\users\\quincy\\anaconda3\\lib\\site-packages\\pandas\\__pycache__\\conftest.cpython-39.pyc\n",
      "   from C:\\Users\\QUINCY\\AppData\\Local\\Temp\\pip-uninstall-946qp1sa\\__pycache__\\conftest.cpython-39.pyc\n",
      "  Moving to c:\\users\\quincy\\anaconda3\\lib\\site-packages\\pandas\\__pycache__\\testing.cpython-39.pyc\n",
      "   from C:\\Users\\QUINCY\\AppData\\Local\\Temp\\pip-uninstall-946qp1sa\\__pycache__\\testing.cpython-39.pyc\n",
      "  Moving to c:\\users\\quincy\\anaconda3\\lib\\site-packages\\pandas\\_config\\\n",
      "   from C:\\Users\\QUINCY\\anaconda3\\Lib\\site-packages\\pandas\\~config\n",
      "  Moving to c:\\users\\quincy\\anaconda3\\lib\\site-packages\\pandas\\_libs\\__init__.py\n",
      "   from C:\\Users\\QUINCY\\AppData\\Local\\Temp\\pip-uninstall-946qp1sa\\_libs\\__init__.py\n",
      "  Moving to c:\\users\\quincy\\anaconda3\\lib\\site-packages\\pandas\\_libs\\__pycache__\\\n",
      "   from C:\\Users\\QUINCY\\anaconda3\\Lib\\site-packages\\pandas\\_libs\\~_pycache__\n",
      "  Moving to c:\\users\\quincy\\anaconda3\\lib\\site-packages\\pandas\\_libs\\algos.cp39-win_amd64.pyd\n",
      "   from C:\\Users\\QUINCY\\AppData\\Local\\Temp\\pip-uninstall-946qp1sa\\_libs\\algos.cp39-win_amd64.pyd\n",
      "  Moving to c:\\users\\quincy\\anaconda3\\lib\\site-packages\\pandas\\_libs\\algos.pxd\n",
      "   from C:\\Users\\QUINCY\\AppData\\Local\\Temp\\pip-uninstall-946qp1sa\\_libs\\algos.pxd\n",
      "  Moving to c:\\users\\quincy\\anaconda3\\lib\\site-packages\\pandas\\_libs\\algos.pyi\n",
      "   from C:\\Users\\QUINCY\\AppData\\Local\\Temp\\pip-uninstall-946qp1sa\\_libs\\algos.pyi\n",
      "  Moving to c:\\users\\quincy\\anaconda3\\lib\\site-packages\\pandas\\_libs\\algos.pyx\n",
      "   from C:\\Users\\QUINCY\\AppData\\Local\\Temp\\pip-uninstall-946qp1sa\\_libs\\algos.pyx\n",
      "  Moving to c:\\users\\quincy\\anaconda3\\lib\\site-packages\\pandas\\_libs\\algos_common_helper.pxi.in\n",
      "   from C:\\Users\\QUINCY\\AppData\\Local\\Temp\\pip-uninstall-946qp1sa\\_libs\\algos_common_helper.pxi.in\n",
      "  Moving to c:\\users\\quincy\\anaconda3\\lib\\site-packages\\pandas\\_libs\\algos_take_helper.pxi.in\n",
      "   from C:\\Users\\QUINCY\\AppData\\Local\\Temp\\pip-uninstall-946qp1sa\\_libs\\algos_take_helper.pxi.in\n",
      "  Moving to c:\\users\\quincy\\anaconda3\\lib\\site-packages\\pandas\\_libs\\arrays.cp39-win_amd64.pyd\n",
      "   from C:\\Users\\QUINCY\\AppData\\Local\\Temp\\pip-uninstall-946qp1sa\\_libs\\arrays.cp39-win_amd64.pyd\n",
      "  Moving to c:\\users\\quincy\\anaconda3\\lib\\site-packages\\pandas\\_libs\\arrays.pxd\n",
      "   from C:\\Users\\QUINCY\\AppData\\Local\\Temp\\pip-uninstall-946qp1sa\\_libs\\arrays.pxd\n",
      "  Moving to c:\\users\\quincy\\anaconda3\\lib\\site-packages\\pandas\\_libs\\arrays.pyi\n",
      "   from C:\\Users\\QUINCY\\AppData\\Local\\Temp\\pip-uninstall-946qp1sa\\_libs\\arrays.pyi\n",
      "  Moving to c:\\users\\quincy\\anaconda3\\lib\\site-packages\\pandas\\_libs\\arrays.pyx\n",
      "   from C:\\Users\\QUINCY\\AppData\\Local\\Temp\\pip-uninstall-946qp1sa\\_libs\\arrays.pyx\n",
      "  Moving to c:\\users\\quincy\\anaconda3\\lib\\site-packages\\pandas\\_libs\\dtypes.pxd\n",
      "   from C:\\Users\\QUINCY\\AppData\\Local\\Temp\\pip-uninstall-946qp1sa\\_libs\\dtypes.pxd\n",
      "  Moving to c:\\users\\quincy\\anaconda3\\lib\\site-packages\\pandas\\_libs\\groupby.cp39-win_amd64.pyd\n",
      "   from C:\\Users\\QUINCY\\AppData\\Local\\Temp\\pip-uninstall-946qp1sa\\_libs\\groupby.cp39-win_amd64.pyd\n",
      "  Moving to c:\\users\\quincy\\anaconda3\\lib\\site-packages\\pandas\\_libs\\groupby.pyi\n",
      "   from C:\\Users\\QUINCY\\AppData\\Local\\Temp\\pip-uninstall-946qp1sa\\_libs\\groupby.pyi\n",
      "  Moving to c:\\users\\quincy\\anaconda3\\lib\\site-packages\\pandas\\_libs\\groupby.pyx\n",
      "   from C:\\Users\\QUINCY\\AppData\\Local\\Temp\\pip-uninstall-946qp1sa\\_libs\\groupby.pyx\n",
      "  Moving to c:\\users\\quincy\\anaconda3\\lib\\site-packages\\pandas\\_libs\\hashing.cp39-win_amd64.pyd\n",
      "   from C:\\Users\\QUINCY\\AppData\\Local\\Temp\\pip-uninstall-946qp1sa\\_libs\\hashing.cp39-win_amd64.pyd\n",
      "  Moving to c:\\users\\quincy\\anaconda3\\lib\\site-packages\\pandas\\_libs\\hashing.pyi\n",
      "   from C:\\Users\\QUINCY\\AppData\\Local\\Temp\\pip-uninstall-946qp1sa\\_libs\\hashing.pyi\n",
      "  Moving to c:\\users\\quincy\\anaconda3\\lib\\site-packages\\pandas\\_libs\\hashing.pyx\n",
      "   from C:\\Users\\QUINCY\\AppData\\Local\\Temp\\pip-uninstall-946qp1sa\\_libs\\hashing.pyx\n",
      "  Moving to c:\\users\\quincy\\anaconda3\\lib\\site-packages\\pandas\\_libs\\hashtable.cp39-win_amd64.pyd\n",
      "   from C:\\Users\\QUINCY\\AppData\\Local\\Temp\\pip-uninstall-946qp1sa\\_libs\\hashtable.cp39-win_amd64.pyd\n",
      "  Moving to c:\\users\\quincy\\anaconda3\\lib\\site-packages\\pandas\\_libs\\hashtable.pxd\n",
      "   from C:\\Users\\QUINCY\\AppData\\Local\\Temp\\pip-uninstall-946qp1sa\\_libs\\hashtable.pxd\n",
      "  Moving to c:\\users\\quincy\\anaconda3\\lib\\site-packages\\pandas\\_libs\\hashtable.pyi\n",
      "   from C:\\Users\\QUINCY\\AppData\\Local\\Temp\\pip-uninstall-946qp1sa\\_libs\\hashtable.pyi\n",
      "  Moving to c:\\users\\quincy\\anaconda3\\lib\\site-packages\\pandas\\_libs\\hashtable.pyx\n",
      "   from C:\\Users\\QUINCY\\AppData\\Local\\Temp\\pip-uninstall-946qp1sa\\_libs\\hashtable.pyx\n",
      "  Moving to c:\\users\\quincy\\anaconda3\\lib\\site-packages\\pandas\\_libs\\hashtable_class_helper.pxi.in\n",
      "   from C:\\Users\\QUINCY\\AppData\\Local\\Temp\\pip-uninstall-946qp1sa\\_libs\\hashtable_class_helper.pxi.in\n",
      "  Moving to c:\\users\\quincy\\anaconda3\\lib\\site-packages\\pandas\\_libs\\hashtable_func_helper.pxi.in\n",
      "   from C:\\Users\\QUINCY\\AppData\\Local\\Temp\\pip-uninstall-946qp1sa\\_libs\\hashtable_func_helper.pxi.in\n",
      "  Moving to c:\\users\\quincy\\anaconda3\\lib\\site-packages\\pandas\\_libs\\index.cp39-win_amd64.pyd\n",
      "   from C:\\Users\\QUINCY\\AppData\\Local\\Temp\\pip-uninstall-946qp1sa\\_libs\\index.cp39-win_amd64.pyd\n",
      "  Moving to c:\\users\\quincy\\anaconda3\\lib\\site-packages\\pandas\\_libs\\index.pyi\n",
      "   from C:\\Users\\QUINCY\\AppData\\Local\\Temp\\pip-uninstall-946qp1sa\\_libs\\index.pyi\n",
      "  Moving to c:\\users\\quincy\\anaconda3\\lib\\site-packages\\pandas\\_libs\\index.pyx\n",
      "   from C:\\Users\\QUINCY\\AppData\\Local\\Temp\\pip-uninstall-946qp1sa\\_libs\\index.pyx\n",
      "  Moving to c:\\users\\quincy\\anaconda3\\lib\\site-packages\\pandas\\_libs\\index_class_helper.pxi.in\n",
      "   from C:\\Users\\QUINCY\\AppData\\Local\\Temp\\pip-uninstall-946qp1sa\\_libs\\index_class_helper.pxi.in\n",
      "  Moving to c:\\users\\quincy\\anaconda3\\lib\\site-packages\\pandas\\_libs\\indexing.cp39-win_amd64.pyd\n",
      "   from C:\\Users\\QUINCY\\AppData\\Local\\Temp\\pip-uninstall-946qp1sa\\_libs\\indexing.cp39-win_amd64.pyd\n",
      "  Moving to c:\\users\\quincy\\anaconda3\\lib\\site-packages\\pandas\\_libs\\indexing.pyx\n",
      "   from C:\\Users\\QUINCY\\AppData\\Local\\Temp\\pip-uninstall-946qp1sa\\_libs\\indexing.pyx\n",
      "  Moving to c:\\users\\quincy\\anaconda3\\lib\\site-packages\\pandas\\_libs\\internals.cp39-win_amd64.pyd\n",
      "   from C:\\Users\\QUINCY\\AppData\\Local\\Temp\\pip-uninstall-946qp1sa\\_libs\\internals.cp39-win_amd64.pyd\n",
      "  Moving to c:\\users\\quincy\\anaconda3\\lib\\site-packages\\pandas\\_libs\\internals.pyi\n",
      "   from C:\\Users\\QUINCY\\AppData\\Local\\Temp\\pip-uninstall-946qp1sa\\_libs\\internals.pyi\n",
      "  Moving to c:\\users\\quincy\\anaconda3\\lib\\site-packages\\pandas\\_libs\\internals.pyx\n",
      "   from C:\\Users\\QUINCY\\AppData\\Local\\Temp\\pip-uninstall-946qp1sa\\_libs\\internals.pyx\n",
      "  Moving to c:\\users\\quincy\\anaconda3\\lib\\site-packages\\pandas\\_libs\\interval.cp39-win_amd64.pyd\n",
      "   from C:\\Users\\QUINCY\\AppData\\Local\\Temp\\pip-uninstall-946qp1sa\\_libs\\interval.cp39-win_amd64.pyd\n",
      "  Moving to c:\\users\\quincy\\anaconda3\\lib\\site-packages\\pandas\\_libs\\interval.pyx\n",
      "   from C:\\Users\\QUINCY\\AppData\\Local\\Temp\\pip-uninstall-946qp1sa\\_libs\\interval.pyx\n",
      "  Moving to c:\\users\\quincy\\anaconda3\\lib\\site-packages\\pandas\\_libs\\intervaltree.pxi.in\n",
      "   from C:\\Users\\QUINCY\\AppData\\Local\\Temp\\pip-uninstall-946qp1sa\\_libs\\intervaltree.pxi.in\n",
      "  Moving to c:\\users\\quincy\\anaconda3\\lib\\site-packages\\pandas\\_libs\\join.cp39-win_amd64.pyd\n",
      "   from C:\\Users\\QUINCY\\AppData\\Local\\Temp\\pip-uninstall-946qp1sa\\_libs\\join.cp39-win_amd64.pyd\n",
      "  Moving to c:\\users\\quincy\\anaconda3\\lib\\site-packages\\pandas\\_libs\\join.pyi\n",
      "   from C:\\Users\\QUINCY\\AppData\\Local\\Temp\\pip-uninstall-946qp1sa\\_libs\\join.pyi\n",
      "  Moving to c:\\users\\quincy\\anaconda3\\lib\\site-packages\\pandas\\_libs\\join.pyx\n",
      "   from C:\\Users\\QUINCY\\AppData\\Local\\Temp\\pip-uninstall-946qp1sa\\_libs\\join.pyx\n",
      "  Moving to c:\\users\\quincy\\anaconda3\\lib\\site-packages\\pandas\\_libs\\json.cp39-win_amd64.pyd\n",
      "   from C:\\Users\\QUINCY\\AppData\\Local\\Temp\\pip-uninstall-946qp1sa\\_libs\\json.cp39-win_amd64.pyd\n",
      "  Moving to c:\\users\\quincy\\anaconda3\\lib\\site-packages\\pandas\\_libs\\khash.pxd\n",
      "   from C:\\Users\\QUINCY\\AppData\\Local\\Temp\\pip-uninstall-946qp1sa\\_libs\\khash.pxd\n",
      "  Moving to c:\\users\\quincy\\anaconda3\\lib\\site-packages\\pandas\\_libs\\khash_for_primitive_helper.pxi.in\n",
      "   from C:\\Users\\QUINCY\\AppData\\Local\\Temp\\pip-uninstall-946qp1sa\\_libs\\khash_for_primitive_helper.pxi.in\n",
      "  Moving to c:\\users\\quincy\\anaconda3\\lib\\site-packages\\pandas\\_libs\\lib.cp39-win_amd64.pyd\n",
      "   from C:\\Users\\QUINCY\\AppData\\Local\\Temp\\pip-uninstall-946qp1sa\\_libs\\lib.cp39-win_amd64.pyd\n",
      "  Moving to c:\\users\\quincy\\anaconda3\\lib\\site-packages\\pandas\\_libs\\lib.pxd\n",
      "   from C:\\Users\\QUINCY\\AppData\\Local\\Temp\\pip-uninstall-946qp1sa\\_libs\\lib.pxd\n",
      "  Moving to c:\\users\\quincy\\anaconda3\\lib\\site-packages\\pandas\\_libs\\lib.pyi\n",
      "   from C:\\Users\\QUINCY\\AppData\\Local\\Temp\\pip-uninstall-946qp1sa\\_libs\\lib.pyi\n",
      "  Moving to c:\\users\\quincy\\anaconda3\\lib\\site-packages\\pandas\\_libs\\lib.pyx\n",
      "   from C:\\Users\\QUINCY\\AppData\\Local\\Temp\\pip-uninstall-946qp1sa\\_libs\\lib.pyx\n",
      "  Moving to c:\\users\\quincy\\anaconda3\\lib\\site-packages\\pandas\\_libs\\missing.cp39-win_amd64.pyd\n",
      "   from C:\\Users\\QUINCY\\AppData\\Local\\Temp\\pip-uninstall-946qp1sa\\_libs\\missing.cp39-win_amd64.pyd\n",
      "  Moving to c:\\users\\quincy\\anaconda3\\lib\\site-packages\\pandas\\_libs\\missing.pxd\n",
      "   from C:\\Users\\QUINCY\\AppData\\Local\\Temp\\pip-uninstall-946qp1sa\\_libs\\missing.pxd\n",
      "  Moving to c:\\users\\quincy\\anaconda3\\lib\\site-packages\\pandas\\_libs\\missing.pyi\n",
      "   from C:\\Users\\QUINCY\\AppData\\Local\\Temp\\pip-uninstall-946qp1sa\\_libs\\missing.pyi\n",
      "  Moving to c:\\users\\quincy\\anaconda3\\lib\\site-packages\\pandas\\_libs\\missing.pyx\n",
      "   from C:\\Users\\QUINCY\\AppData\\Local\\Temp\\pip-uninstall-946qp1sa\\_libs\\missing.pyx\n",
      "  Moving to c:\\users\\quincy\\anaconda3\\lib\\site-packages\\pandas\\_libs\\ops.cp39-win_amd64.pyd\n",
      "   from C:\\Users\\QUINCY\\AppData\\Local\\Temp\\pip-uninstall-946qp1sa\\_libs\\ops.cp39-win_amd64.pyd\n",
      "  Moving to c:\\users\\quincy\\anaconda3\\lib\\site-packages\\pandas\\_libs\\ops.pyi\n",
      "   from C:\\Users\\QUINCY\\AppData\\Local\\Temp\\pip-uninstall-946qp1sa\\_libs\\ops.pyi\n",
      "  Moving to c:\\users\\quincy\\anaconda3\\lib\\site-packages\\pandas\\_libs\\ops.pyx\n",
      "   from C:\\Users\\QUINCY\\AppData\\Local\\Temp\\pip-uninstall-946qp1sa\\_libs\\ops.pyx\n",
      "  Moving to c:\\users\\quincy\\anaconda3\\lib\\site-packages\\pandas\\_libs\\ops_dispatch.cp39-win_amd64.pyd\n",
      "   from C:\\Users\\QUINCY\\AppData\\Local\\Temp\\pip-uninstall-946qp1sa\\_libs\\ops_dispatch.cp39-win_amd64.pyd\n",
      "  Moving to c:\\users\\quincy\\anaconda3\\lib\\site-packages\\pandas\\_libs\\ops_dispatch.pyi\n",
      "   from C:\\Users\\QUINCY\\AppData\\Local\\Temp\\pip-uninstall-946qp1sa\\_libs\\ops_dispatch.pyi\n",
      "  Moving to c:\\users\\quincy\\anaconda3\\lib\\site-packages\\pandas\\_libs\\ops_dispatch.pyx\n",
      "   from C:\\Users\\QUINCY\\AppData\\Local\\Temp\\pip-uninstall-946qp1sa\\_libs\\ops_dispatch.pyx\n",
      "  Moving to c:\\users\\quincy\\anaconda3\\lib\\site-packages\\pandas\\_libs\\parsers.cp39-win_amd64.pyd\n",
      "   from C:\\Users\\QUINCY\\AppData\\Local\\Temp\\pip-uninstall-946qp1sa\\_libs\\parsers.cp39-win_amd64.pyd\n",
      "  Moving to c:\\users\\quincy\\anaconda3\\lib\\site-packages\\pandas\\_libs\\parsers.pyi\n",
      "   from C:\\Users\\QUINCY\\AppData\\Local\\Temp\\pip-uninstall-946qp1sa\\_libs\\parsers.pyi\n",
      "  Moving to c:\\users\\quincy\\anaconda3\\lib\\site-packages\\pandas\\_libs\\parsers.pyx\n",
      "   from C:\\Users\\QUINCY\\AppData\\Local\\Temp\\pip-uninstall-946qp1sa\\_libs\\parsers.pyx\n",
      "  Moving to c:\\users\\quincy\\anaconda3\\lib\\site-packages\\pandas\\_libs\\properties.cp39-win_amd64.pyd\n",
      "   from C:\\Users\\QUINCY\\AppData\\Local\\Temp\\pip-uninstall-946qp1sa\\_libs\\properties.cp39-win_amd64.pyd\n",
      "  Moving to c:\\users\\quincy\\anaconda3\\lib\\site-packages\\pandas\\_libs\\properties.pyi\n",
      "   from C:\\Users\\QUINCY\\AppData\\Local\\Temp\\pip-uninstall-946qp1sa\\_libs\\properties.pyi\n",
      "  Moving to c:\\users\\quincy\\anaconda3\\lib\\site-packages\\pandas\\_libs\\properties.pyx\n",
      "   from C:\\Users\\QUINCY\\AppData\\Local\\Temp\\pip-uninstall-946qp1sa\\_libs\\properties.pyx\n",
      "  Moving to c:\\users\\quincy\\anaconda3\\lib\\site-packages\\pandas\\_libs\\reduction.cp39-win_amd64.pyd\n",
      "   from C:\\Users\\QUINCY\\AppData\\Local\\Temp\\pip-uninstall-946qp1sa\\_libs\\reduction.cp39-win_amd64.pyd\n",
      "  Moving to c:\\users\\quincy\\anaconda3\\lib\\site-packages\\pandas\\_libs\\reduction.pyx\n",
      "   from C:\\Users\\QUINCY\\AppData\\Local\\Temp\\pip-uninstall-946qp1sa\\_libs\\reduction.pyx\n",
      "  Moving to c:\\users\\quincy\\anaconda3\\lib\\site-packages\\pandas\\_libs\\reshape.cp39-win_amd64.pyd\n",
      "   from C:\\Users\\QUINCY\\AppData\\Local\\Temp\\pip-uninstall-946qp1sa\\_libs\\reshape.cp39-win_amd64.pyd\n",
      "  Moving to c:\\users\\quincy\\anaconda3\\lib\\site-packages\\pandas\\_libs\\reshape.pyi\n",
      "   from C:\\Users\\QUINCY\\AppData\\Local\\Temp\\pip-uninstall-946qp1sa\\_libs\\reshape.pyi\n",
      "  Moving to c:\\users\\quincy\\anaconda3\\lib\\site-packages\\pandas\\_libs\\reshape.pyx\n",
      "   from C:\\Users\\QUINCY\\AppData\\Local\\Temp\\pip-uninstall-946qp1sa\\_libs\\reshape.pyx\n",
      "  Moving to c:\\users\\quincy\\anaconda3\\lib\\site-packages\\pandas\\_libs\\sparse.cp39-win_amd64.pyd\n",
      "   from C:\\Users\\QUINCY\\AppData\\Local\\Temp\\pip-uninstall-946qp1sa\\_libs\\sparse.cp39-win_amd64.pyd\n",
      "  Moving to c:\\users\\quincy\\anaconda3\\lib\\site-packages\\pandas\\_libs\\sparse.pyi\n",
      "   from C:\\Users\\QUINCY\\AppData\\Local\\Temp\\pip-uninstall-946qp1sa\\_libs\\sparse.pyi\n",
      "  Moving to c:\\users\\quincy\\anaconda3\\lib\\site-packages\\pandas\\_libs\\sparse.pyx\n",
      "   from C:\\Users\\QUINCY\\AppData\\Local\\Temp\\pip-uninstall-946qp1sa\\_libs\\sparse.pyx\n",
      "  Moving to c:\\users\\quincy\\anaconda3\\lib\\site-packages\\pandas\\_libs\\sparse_op_helper.pxi.in\n",
      "   from C:\\Users\\QUINCY\\AppData\\Local\\Temp\\pip-uninstall-946qp1sa\\_libs\\sparse_op_helper.pxi.in\n",
      "  Moving to c:\\users\\quincy\\anaconda3\\lib\\site-packages\\pandas\\_libs\\src\\\n",
      "   from C:\\Users\\QUINCY\\anaconda3\\Lib\\site-packages\\pandas\\_libs\\~rc\n",
      "  Moving to c:\\users\\quincy\\anaconda3\\lib\\site-packages\\pandas\\_libs\\testing.cp39-win_amd64.pyd\n",
      "   from C:\\Users\\QUINCY\\AppData\\Local\\Temp\\pip-uninstall-946qp1sa\\_libs\\testing.cp39-win_amd64.pyd\n",
      "  Moving to c:\\users\\quincy\\anaconda3\\lib\\site-packages\\pandas\\_libs\\testing.pyi\n",
      "   from C:\\Users\\QUINCY\\AppData\\Local\\Temp\\pip-uninstall-946qp1sa\\_libs\\testing.pyi\n",
      "  Moving to c:\\users\\quincy\\anaconda3\\lib\\site-packages\\pandas\\_libs\\testing.pyx\n",
      "   from C:\\Users\\QUINCY\\AppData\\Local\\Temp\\pip-uninstall-946qp1sa\\_libs\\testing.pyx\n",
      "  Moving to c:\\users\\quincy\\anaconda3\\lib\\site-packages\\pandas\\_libs\\tslib.cp39-win_amd64.pyd\n",
      "   from C:\\Users\\QUINCY\\AppData\\Local\\Temp\\pip-uninstall-946qp1sa\\_libs\\tslib.cp39-win_amd64.pyd\n",
      "  Moving to c:\\users\\quincy\\anaconda3\\lib\\site-packages\\pandas\\_libs\\tslib.pyi\n",
      "   from C:\\Users\\QUINCY\\AppData\\Local\\Temp\\pip-uninstall-946qp1sa\\_libs\\tslib.pyi\n",
      "  Moving to c:\\users\\quincy\\anaconda3\\lib\\site-packages\\pandas\\_libs\\tslib.pyx\n",
      "   from C:\\Users\\QUINCY\\AppData\\Local\\Temp\\pip-uninstall-946qp1sa\\_libs\\tslib.pyx\n",
      "  Moving to c:\\users\\quincy\\anaconda3\\lib\\site-packages\\pandas\\_libs\\tslibs\\\n",
      "   from C:\\Users\\QUINCY\\anaconda3\\Lib\\site-packages\\pandas\\_libs\\~slibs\n",
      "  Moving to c:\\users\\quincy\\anaconda3\\lib\\site-packages\\pandas\\_libs\\util.pxd\n",
      "   from C:\\Users\\QUINCY\\AppData\\Local\\Temp\\pip-uninstall-946qp1sa\\_libs\\util.pxd\n",
      "  Moving to c:\\users\\quincy\\anaconda3\\lib\\site-packages\\pandas\\_libs\\window\\__init__.py\n",
      "   from C:\\Users\\QUINCY\\AppData\\Local\\Temp\\pip-uninstall-946qp1sa\\_libs\\window\\__init__.py\n",
      "  Moving to c:\\users\\quincy\\anaconda3\\lib\\site-packages\\pandas\\_libs\\window\\__pycache__\\\n",
      "   from C:\\Users\\QUINCY\\anaconda3\\Lib\\site-packages\\pandas\\_libs\\window\\~_pycache__\n",
      "  Moving to c:\\users\\quincy\\anaconda3\\lib\\site-packages\\pandas\\_libs\\window\\aggregations.cp39-win_amd64.pyd\n",
      "   from C:\\Users\\QUINCY\\AppData\\Local\\Temp\\pip-uninstall-946qp1sa\\_libs\\window\\aggregations.cp39-win_amd64.pyd\n",
      "  Moving to c:\\users\\quincy\\anaconda3\\lib\\site-packages\\pandas\\_libs\\window\\aggregations.pyi\n",
      "   from C:\\Users\\QUINCY\\AppData\\Local\\Temp\\pip-uninstall-946qp1sa\\_libs\\window\\aggregations.pyi\n",
      "  Moving to c:\\users\\quincy\\anaconda3\\lib\\site-packages\\pandas\\_libs\\window\\aggregations.pyx\n",
      "   from C:\\Users\\QUINCY\\AppData\\Local\\Temp\\pip-uninstall-946qp1sa\\_libs\\window\\aggregations.pyx\n",
      "  Moving to c:\\users\\quincy\\anaconda3\\lib\\site-packages\\pandas\\_libs\\window\\indexers.cp39-win_amd64.pyd\n",
      "   from C:\\Users\\QUINCY\\AppData\\Local\\Temp\\pip-uninstall-946qp1sa\\_libs\\window\\indexers.cp39-win_amd64.pyd\n",
      "  Moving to c:\\users\\quincy\\anaconda3\\lib\\site-packages\\pandas\\_libs\\window\\indexers.pyi\n",
      "   from C:\\Users\\QUINCY\\AppData\\Local\\Temp\\pip-uninstall-946qp1sa\\_libs\\window\\indexers.pyi\n",
      "  Moving to c:\\users\\quincy\\anaconda3\\lib\\site-packages\\pandas\\_libs\\window\\indexers.pyx\n",
      "   from C:\\Users\\QUINCY\\AppData\\Local\\Temp\\pip-uninstall-946qp1sa\\_libs\\window\\indexers.pyx\n",
      "  Moving to c:\\users\\quincy\\anaconda3\\lib\\site-packages\\pandas\\_libs\\writers.cp39-win_amd64.pyd\n",
      "   from C:\\Users\\QUINCY\\AppData\\Local\\Temp\\pip-uninstall-946qp1sa\\_libs\\writers.cp39-win_amd64.pyd\n",
      "  Moving to c:\\users\\quincy\\anaconda3\\lib\\site-packages\\pandas\\_libs\\writers.pyi\n",
      "   from C:\\Users\\QUINCY\\AppData\\Local\\Temp\\pip-uninstall-946qp1sa\\_libs\\writers.pyi\n",
      "  Moving to c:\\users\\quincy\\anaconda3\\lib\\site-packages\\pandas\\_libs\\writers.pyx\n",
      "   from C:\\Users\\QUINCY\\AppData\\Local\\Temp\\pip-uninstall-946qp1sa\\_libs\\writers.pyx\n",
      "  Moving to c:\\users\\quincy\\anaconda3\\lib\\site-packages\\pandas\\_testing\\\n",
      "   from C:\\Users\\QUINCY\\anaconda3\\Lib\\site-packages\\pandas\\~testing\n",
      "  Moving to c:\\users\\quincy\\anaconda3\\lib\\site-packages\\pandas\\_typing.py\n",
      "   from C:\\Users\\QUINCY\\AppData\\Local\\Temp\\pip-uninstall-946qp1sa\\_typing.py\n",
      "  Moving to c:\\users\\quincy\\anaconda3\\lib\\site-packages\\pandas\\_version.py\n",
      "   from C:\\Users\\QUINCY\\AppData\\Local\\Temp\\pip-uninstall-946qp1sa\\_version.py\n",
      "  Moving to c:\\users\\quincy\\anaconda3\\lib\\site-packages\\pandas\\api\\\n",
      "   from C:\\Users\\QUINCY\\anaconda3\\Lib\\site-packages\\pandas\\~pi\n",
      "  Moving to c:\\users\\quincy\\anaconda3\\lib\\site-packages\\pandas\\arrays\\\n",
      "   from C:\\Users\\QUINCY\\anaconda3\\Lib\\site-packages\\pandas\\~rrays\n",
      "  Moving to c:\\users\\quincy\\anaconda3\\lib\\site-packages\\pandas\\compat\\\n",
      "   from C:\\Users\\QUINCY\\anaconda3\\Lib\\site-packages\\pandas\\~ompat\n",
      "  Moving to c:\\users\\quincy\\anaconda3\\lib\\site-packages\\pandas\\conftest.py\n",
      "   from C:\\Users\\QUINCY\\AppData\\Local\\Temp\\pip-uninstall-946qp1sa\\conftest.py\n",
      "  Moving to c:\\users\\quincy\\anaconda3\\lib\\site-packages\\pandas\\core\\__init__.py\n",
      "   from C:\\Users\\QUINCY\\AppData\\Local\\Temp\\pip-uninstall-946qp1sa\\core\\__init__.py\n",
      "  Moving to c:\\users\\quincy\\anaconda3\\lib\\site-packages\\pandas\\core\\__pycache__\\__init__.cpython-39.pyc\n",
      "   from C:\\Users\\QUINCY\\AppData\\Local\\Temp\\pip-uninstall-946qp1sa\\core\\__pycache__\\__init__.cpython-39.pyc\n",
      "  Moving to c:\\users\\quincy\\anaconda3\\lib\\site-packages\\pandas\\core\\__pycache__\\accessor.cpython-39.pyc\n",
      "   from C:\\Users\\QUINCY\\AppData\\Local\\Temp\\pip-uninstall-946qp1sa\\core\\__pycache__\\accessor.cpython-39.pyc\n",
      "  Moving to c:\\users\\quincy\\anaconda3\\lib\\site-packages\\pandas\\core\\__pycache__\\algorithms.cpython-39.pyc\n",
      "   from C:\\Users\\QUINCY\\AppData\\Local\\Temp\\pip-uninstall-946qp1sa\\core\\__pycache__\\algorithms.cpython-39.pyc\n",
      "  Moving to c:\\users\\quincy\\anaconda3\\lib\\site-packages\\pandas\\core\\__pycache__\\api.cpython-39.pyc\n",
      "   from C:\\Users\\QUINCY\\AppData\\Local\\Temp\\pip-uninstall-946qp1sa\\core\\__pycache__\\api.cpython-39.pyc\n",
      "  Moving to c:\\users\\quincy\\anaconda3\\lib\\site-packages\\pandas\\core\\__pycache__\\apply.cpython-39.pyc\n",
      "   from C:\\Users\\QUINCY\\AppData\\Local\\Temp\\pip-uninstall-946qp1sa\\core\\__pycache__\\apply.cpython-39.pyc\n",
      "  Moving to c:\\users\\quincy\\anaconda3\\lib\\site-packages\\pandas\\core\\__pycache__\\arraylike.cpython-39.pyc\n",
      "   from C:\\Users\\QUINCY\\AppData\\Local\\Temp\\pip-uninstall-946qp1sa\\core\\__pycache__\\arraylike.cpython-39.pyc\n",
      "  Moving to c:\\users\\quincy\\anaconda3\\lib\\site-packages\\pandas\\core\\__pycache__\\base.cpython-39.pyc\n",
      "   from C:\\Users\\QUINCY\\AppData\\Local\\Temp\\pip-uninstall-946qp1sa\\core\\__pycache__\\base.cpython-39.pyc\n",
      "  Moving to c:\\users\\quincy\\anaconda3\\lib\\site-packages\\pandas\\core\\__pycache__\\common.cpython-39.pyc\n",
      "   from C:\\Users\\QUINCY\\AppData\\Local\\Temp\\pip-uninstall-946qp1sa\\core\\__pycache__\\common.cpython-39.pyc\n",
      "  Moving to c:\\users\\quincy\\anaconda3\\lib\\site-packages\\pandas\\core\\__pycache__\\config_init.cpython-39.pyc\n",
      "   from C:\\Users\\QUINCY\\AppData\\Local\\Temp\\pip-uninstall-946qp1sa\\core\\__pycache__\\config_init.cpython-39.pyc\n",
      "  Moving to c:\\users\\quincy\\anaconda3\\lib\\site-packages\\pandas\\core\\__pycache__\\construction.cpython-39.pyc\n",
      "   from C:\\Users\\QUINCY\\AppData\\Local\\Temp\\pip-uninstall-946qp1sa\\core\\__pycache__\\construction.cpython-39.pyc\n",
      "  Moving to c:\\users\\quincy\\anaconda3\\lib\\site-packages\\pandas\\core\\__pycache__\\describe.cpython-39.pyc\n",
      "   from C:\\Users\\QUINCY\\AppData\\Local\\Temp\\pip-uninstall-946qp1sa\\core\\__pycache__\\describe.cpython-39.pyc\n",
      "  Moving to c:\\users\\quincy\\anaconda3\\lib\\site-packages\\pandas\\core\\__pycache__\\flags.cpython-39.pyc\n",
      "   from C:\\Users\\QUINCY\\AppData\\Local\\Temp\\pip-uninstall-946qp1sa\\core\\__pycache__\\flags.cpython-39.pyc\n",
      "  Moving to c:\\users\\quincy\\anaconda3\\lib\\site-packages\\pandas\\core\\__pycache__\\frame.cpython-39.pyc\n",
      "   from C:\\Users\\QUINCY\\AppData\\Local\\Temp\\pip-uninstall-946qp1sa\\core\\__pycache__\\frame.cpython-39.pyc\n",
      "  Moving to c:\\users\\quincy\\anaconda3\\lib\\site-packages\\pandas\\core\\__pycache__\\generic.cpython-39.pyc\n",
      "   from C:\\Users\\QUINCY\\AppData\\Local\\Temp\\pip-uninstall-946qp1sa\\core\\__pycache__\\generic.cpython-39.pyc\n",
      "  Moving to c:\\users\\quincy\\anaconda3\\lib\\site-packages\\pandas\\core\\__pycache__\\index.cpython-39.pyc\n",
      "   from C:\\Users\\QUINCY\\AppData\\Local\\Temp\\pip-uninstall-946qp1sa\\core\\__pycache__\\index.cpython-39.pyc\n",
      "  Moving to c:\\users\\quincy\\anaconda3\\lib\\site-packages\\pandas\\core\\__pycache__\\indexing.cpython-39.pyc\n",
      "   from C:\\Users\\QUINCY\\AppData\\Local\\Temp\\pip-uninstall-946qp1sa\\core\\__pycache__\\indexing.cpython-39.pyc\n",
      "  Moving to c:\\users\\quincy\\anaconda3\\lib\\site-packages\\pandas\\core\\__pycache__\\missing.cpython-39.pyc\n",
      "   from C:\\Users\\QUINCY\\AppData\\Local\\Temp\\pip-uninstall-946qp1sa\\core\\__pycache__\\missing.cpython-39.pyc\n",
      "  Moving to c:\\users\\quincy\\anaconda3\\lib\\site-packages\\pandas\\core\\__pycache__\\nanops.cpython-39.pyc\n",
      "   from C:\\Users\\QUINCY\\AppData\\Local\\Temp\\pip-uninstall-946qp1sa\\core\\__pycache__\\nanops.cpython-39.pyc\n",
      "  Moving to c:\\users\\quincy\\anaconda3\\lib\\site-packages\\pandas\\core\\__pycache__\\resample.cpython-39.pyc\n",
      "   from C:\\Users\\QUINCY\\AppData\\Local\\Temp\\pip-uninstall-946qp1sa\\core\\__pycache__\\resample.cpython-39.pyc\n",
      "  Moving to c:\\users\\quincy\\anaconda3\\lib\\site-packages\\pandas\\core\\__pycache__\\roperator.cpython-39.pyc\n",
      "   from C:\\Users\\QUINCY\\AppData\\Local\\Temp\\pip-uninstall-946qp1sa\\core\\__pycache__\\roperator.cpython-39.pyc\n",
      "  Moving to c:\\users\\quincy\\anaconda3\\lib\\site-packages\\pandas\\core\\__pycache__\\sample.cpython-39.pyc\n",
      "   from C:\\Users\\QUINCY\\AppData\\Local\\Temp\\pip-uninstall-946qp1sa\\core\\__pycache__\\sample.cpython-39.pyc\n",
      "  Moving to c:\\users\\quincy\\anaconda3\\lib\\site-packages\\pandas\\core\\__pycache__\\series.cpython-39.pyc\n",
      "   from C:\\Users\\QUINCY\\AppData\\Local\\Temp\\pip-uninstall-946qp1sa\\core\\__pycache__\\series.cpython-39.pyc\n",
      "  Moving to c:\\users\\quincy\\anaconda3\\lib\\site-packages\\pandas\\core\\__pycache__\\shared_docs.cpython-39.pyc\n",
      "   from C:\\Users\\QUINCY\\AppData\\Local\\Temp\\pip-uninstall-946qp1sa\\core\\__pycache__\\shared_docs.cpython-39.pyc\n",
      "  Moving to c:\\users\\quincy\\anaconda3\\lib\\site-packages\\pandas\\core\\__pycache__\\sorting.cpython-39.pyc\n",
      "   from C:\\Users\\QUINCY\\AppData\\Local\\Temp\\pip-uninstall-946qp1sa\\core\\__pycache__\\sorting.cpython-39.pyc\n",
      "  Moving to c:\\users\\quincy\\anaconda3\\lib\\site-packages\\pandas\\core\\_numba\\\n",
      "   from C:\\Users\\QUINCY\\anaconda3\\Lib\\site-packages\\pandas\\core\\~numba\n",
      "  Moving to c:\\users\\quincy\\anaconda3\\lib\\site-packages\\pandas\\core\\accessor.py\n",
      "   from C:\\Users\\QUINCY\\AppData\\Local\\Temp\\pip-uninstall-946qp1sa\\core\\accessor.py\n",
      "  Moving to c:\\users\\quincy\\anaconda3\\lib\\site-packages\\pandas\\core\\algorithms.py\n",
      "   from C:\\Users\\QUINCY\\AppData\\Local\\Temp\\pip-uninstall-946qp1sa\\core\\algorithms.py\n",
      "  Moving to c:\\users\\quincy\\anaconda3\\lib\\site-packages\\pandas\\core\\api.py\n",
      "   from C:\\Users\\QUINCY\\AppData\\Local\\Temp\\pip-uninstall-946qp1sa\\core\\api.py\n",
      "  Moving to c:\\users\\quincy\\anaconda3\\lib\\site-packages\\pandas\\core\\apply.py\n",
      "   from C:\\Users\\QUINCY\\AppData\\Local\\Temp\\pip-uninstall-946qp1sa\\core\\apply.py\n",
      "  Moving to c:\\users\\quincy\\anaconda3\\lib\\site-packages\\pandas\\core\\array_algos\\\n",
      "   from C:\\Users\\QUINCY\\anaconda3\\Lib\\site-packages\\pandas\\core\\~rray_algos\n",
      "  Moving to c:\\users\\quincy\\anaconda3\\lib\\site-packages\\pandas\\core\\arraylike.py\n",
      "   from C:\\Users\\QUINCY\\AppData\\Local\\Temp\\pip-uninstall-946qp1sa\\core\\arraylike.py\n",
      "  Moving to c:\\users\\quincy\\anaconda3\\lib\\site-packages\\pandas\\core\\arrays\\\n",
      "   from C:\\Users\\QUINCY\\anaconda3\\Lib\\site-packages\\pandas\\core\\~rrays\n",
      "  Moving to c:\\users\\quincy\\anaconda3\\lib\\site-packages\\pandas\\core\\base.py\n",
      "   from C:\\Users\\QUINCY\\AppData\\Local\\Temp\\pip-uninstall-946qp1sa\\core\\base.py\n",
      "  Moving to c:\\users\\quincy\\anaconda3\\lib\\site-packages\\pandas\\core\\common.py\n",
      "   from C:\\Users\\QUINCY\\AppData\\Local\\Temp\\pip-uninstall-946qp1sa\\core\\common.py\n",
      "  Moving to c:\\users\\quincy\\anaconda3\\lib\\site-packages\\pandas\\core\\computation\\\n",
      "   from C:\\Users\\QUINCY\\anaconda3\\Lib\\site-packages\\pandas\\core\\~omputation\n",
      "  Moving to c:\\users\\quincy\\anaconda3\\lib\\site-packages\\pandas\\core\\config_init.py\n",
      "   from C:\\Users\\QUINCY\\AppData\\Local\\Temp\\pip-uninstall-946qp1sa\\core\\config_init.py\n",
      "  Moving to c:\\users\\quincy\\anaconda3\\lib\\site-packages\\pandas\\core\\construction.py\n",
      "   from C:\\Users\\QUINCY\\AppData\\Local\\Temp\\pip-uninstall-946qp1sa\\core\\construction.py\n",
      "  Moving to c:\\users\\quincy\\anaconda3\\lib\\site-packages\\pandas\\core\\describe.py\n",
      "   from C:\\Users\\QUINCY\\AppData\\Local\\Temp\\pip-uninstall-946qp1sa\\core\\describe.py\n",
      "  Moving to c:\\users\\quincy\\anaconda3\\lib\\site-packages\\pandas\\core\\dtypes\\\n",
      "   from C:\\Users\\QUINCY\\anaconda3\\Lib\\site-packages\\pandas\\core\\~types\n",
      "  Moving to c:\\users\\quincy\\anaconda3\\lib\\site-packages\\pandas\\core\\flags.py\n",
      "   from C:\\Users\\QUINCY\\AppData\\Local\\Temp\\pip-uninstall-946qp1sa\\core\\flags.py\n",
      "  Moving to c:\\users\\quincy\\anaconda3\\lib\\site-packages\\pandas\\core\\frame.py\n",
      "   from C:\\Users\\QUINCY\\AppData\\Local\\Temp\\pip-uninstall-946qp1sa\\core\\frame.py\n",
      "  Moving to c:\\users\\quincy\\anaconda3\\lib\\site-packages\\pandas\\core\\generic.py\n",
      "   from C:\\Users\\QUINCY\\AppData\\Local\\Temp\\pip-uninstall-946qp1sa\\core\\generic.py\n",
      "  Moving to c:\\users\\quincy\\anaconda3\\lib\\site-packages\\pandas\\core\\groupby\\\n",
      "   from C:\\Users\\QUINCY\\anaconda3\\Lib\\site-packages\\pandas\\core\\~roupby\n",
      "  Moving to c:\\users\\quincy\\anaconda3\\lib\\site-packages\\pandas\\core\\index.py\n",
      "   from C:\\Users\\QUINCY\\AppData\\Local\\Temp\\pip-uninstall-946qp1sa\\core\\index.py\n",
      "  Moving to c:\\users\\quincy\\anaconda3\\lib\\site-packages\\pandas\\core\\indexers\\\n",
      "   from C:\\Users\\QUINCY\\anaconda3\\Lib\\site-packages\\pandas\\core\\~ndexers\n",
      "  Moving to c:\\users\\quincy\\anaconda3\\lib\\site-packages\\pandas\\core\\indexes\\\n",
      "   from C:\\Users\\QUINCY\\anaconda3\\Lib\\site-packages\\pandas\\core\\~ndexes\n",
      "  Moving to c:\\users\\quincy\\anaconda3\\lib\\site-packages\\pandas\\core\\indexing.py\n",
      "   from C:\\Users\\QUINCY\\AppData\\Local\\Temp\\pip-uninstall-946qp1sa\\core\\indexing.py"
     ]
    },
    {
     "name": "stderr",
     "output_type": "stream",
     "text": [
      "  copying pandas\\tests\\test_strings.py -> build\\lib.win-amd64-3.9\\pandas\\tests\n",
      "  copying pandas\\tests\\test_take.py -> build\\lib.win-amd64-3.9\\pandas\\tests\n",
      "  copying pandas\\tests\\__init__.py -> build\\lib.win-amd64-3.9\\pandas\\tests\n",
      "  creating build\\lib.win-amd64-3.9\\pandas\\tseries\n",
      "  copying pandas\\tseries\\api.py -> build\\lib.win-amd64-3.9\\pandas\\tseries\n",
      "  copying pandas\\tseries\\converter.py -> build\\lib.win-amd64-3.9\\pandas\\tseries\n",
      "  copying pandas\\tseries\\frequencies.py -> build\\lib.win-amd64-3.9\\pandas\\tseries\n",
      "  copying pandas\\tseries\\holiday.py -> build\\lib.win-amd64-3.9\\pandas\\tseries\n",
      "  copying pandas\\tseries\\offsets.py -> build\\lib.win-amd64-3.9\\pandas\\tseries\n",
      "  copying pandas\\tseries\\plotting.py -> build\\lib.win-amd64-3.9\\pandas\\tseries\n",
      "  copying pandas\\tseries\\__init__.py -> build\\lib.win-amd64-3.9\\pandas\\tseries\n",
      "  creating build\\lib.win-amd64-3.9\\pandas\\util\n",
      "  copying pandas\\util\\testing.py -> build\\lib.win-amd64-3.9\\pandas\\util\n",
      "  copying pandas\\util\\_decorators.py -> build\\lib.win-amd64-3.9\\pandas\\util\n",
      "  copying pandas\\util\\_depr_module.py -> build\\lib.win-amd64-3.9\\pandas\\util\n",
      "  copying pandas\\util\\_doctools.py -> build\\lib.win-amd64-3.9\\pandas\\util\n",
      "  copying pandas\\util\\_exceptions.py -> build\\lib.win-amd64-3.9\\pandas\\util\n",
      "  copying pandas\\util\\_print_versions.py -> build\\lib.win-amd64-3.9\\pandas\\util\n",
      "  copying pandas\\util\\_tester.py -> build\\lib.win-amd64-3.9\\pandas\\util\n",
      "  copying pandas\\util\\_test_decorators.py -> build\\lib.win-amd64-3.9\\pandas\\util\n",
      "  copying pandas\\util\\_validators.py -> build\\lib.win-amd64-3.9\\pandas\\util\n",
      "  copying pandas\\util\\__init__.py -> build\\lib.win-amd64-3.9\\pandas\\util\n",
      "  creating build\\lib.win-amd64-3.9\\pandas\\_config\n",
      "  copying pandas\\_config\\config.py -> build\\lib.win-amd64-3.9\\pandas\\_config\n",
      "  copying pandas\\_config\\dates.py -> build\\lib.win-amd64-3.9\\pandas\\_config\n",
      "  copying pandas\\_config\\display.py -> build\\lib.win-amd64-3.9\\pandas\\_config\n",
      "  copying pandas\\_config\\localization.py -> build\\lib.win-amd64-3.9\\pandas\\_config\n",
      "  copying pandas\\_config\\__init__.py -> build\\lib.win-amd64-3.9\\pandas\\_config\n",
      "  creating build\\lib.win-amd64-3.9\\pandas\\_libs\n",
      "  copying pandas\\_libs\\__init__.py -> build\\lib.win-amd64-3.9\\pandas\\_libs\n",
      "  creating build\\lib.win-amd64-3.9\\pandas\\api\\extensions\n",
      "  copying pandas\\api\\extensions\\__init__.py -> build\\lib.win-amd64-3.9\\pandas\\api\\extensions\n",
      "  creating build\\lib.win-amd64-3.9\\pandas\\api\\types\n",
      "  copying pandas\\api\\types\\__init__.py -> build\\lib.win-amd64-3.9\\pandas\\api\\types\n",
      "  creating build\\lib.win-amd64-3.9\\pandas\\compat\\numpy\n",
      "  copying pandas\\compat\\numpy\\function.py -> build\\lib.win-amd64-3.9\\pandas\\compat\\numpy\n",
      "  copying pandas\\compat\\numpy\\__init__.py -> build\\lib.win-amd64-3.9\\pandas\\compat\\numpy\n",
      "  creating build\\lib.win-amd64-3.9\\pandas\\core\\arrays\n",
      "  copying pandas\\core\\arrays\\array_.py -> build\\lib.win-amd64-3.9\\pandas\\core\\arrays\n",
      "  copying pandas\\core\\arrays\\base.py -> build\\lib.win-amd64-3.9\\pandas\\core\\arrays\n",
      "  copying pandas\\core\\arrays\\categorical.py -> build\\lib.win-amd64-3.9\\pandas\\core\\arrays\n",
      "  copying pandas\\core\\arrays\\datetimelike.py -> build\\lib.win-amd64-3.9\\pandas\\core\\arrays\n",
      "  copying pandas\\core\\arrays\\datetimes.py -> build\\lib.win-amd64-3.9\\pandas\\core\\arrays\n",
      "  copying pandas\\core\\arrays\\integer.py -> build\\lib.win-amd64-3.9\\pandas\\core\\arrays\n",
      "  copying pandas\\core\\arrays\\interval.py -> build\\lib.win-amd64-3.9\\pandas\\core\\arrays\n",
      "  copying pandas\\core\\arrays\\numpy_.py -> build\\lib.win-amd64-3.9\\pandas\\core\\arrays\n",
      "  copying pandas\\core\\arrays\\period.py -> build\\lib.win-amd64-3.9\\pandas\\core\\arrays\n",
      "  copying pandas\\core\\arrays\\sparse.py -> build\\lib.win-amd64-3.9\\pandas\\core\\arrays\n",
      "  copying pandas\\core\\arrays\\timedeltas.py -> build\\lib.win-amd64-3.9\\pandas\\core\\arrays\n",
      "  copying pandas\\core\\arrays\\_ranges.py -> build\\lib.win-amd64-3.9\\pandas\\core\\arrays\n",
      "  copying pandas\\core\\arrays\\__init__.py -> build\\lib.win-amd64-3.9\\pandas\\core\\arrays\n",
      "  creating build\\lib.win-amd64-3.9\\pandas\\core\\computation\n",
      "  copying pandas\\core\\computation\\align.py -> build\\lib.win-amd64-3.9\\pandas\\core\\computation\n",
      "  copying pandas\\core\\computation\\api.py -> build\\lib.win-amd64-3.9\\pandas\\core\\computation\n",
      "  copying pandas\\core\\computation\\check.py -> build\\lib.win-amd64-3.9\\pandas\\core\\computation\n",
      "  copying pandas\\core\\computation\\common.py -> build\\lib.win-amd64-3.9\\pandas\\core\\computation\n",
      "  copying pandas\\core\\computation\\engines.py -> build\\lib.win-amd64-3.9\\pandas\\core\\computation\n",
      "  copying pandas\\core\\computation\\eval.py -> build\\lib.win-amd64-3.9\\pandas\\core\\computation\n",
      "  copying pandas\\core\\computation\\expr.py -> build\\lib.win-amd64-3.9\\pandas\\core\\computation\n",
      "  copying pandas\\core\\computation\\expressions.py -> build\\lib.win-amd64-3.9\\pandas\\core\\computation\n",
      "  copying pandas\\core\\computation\\ops.py -> build\\lib.win-amd64-3.9\\pandas\\core\\computation\n",
      "  copying pandas\\core\\computation\\pytables.py -> build\\lib.win-amd64-3.9\\pandas\\core\\computation\n",
      "  copying pandas\\core\\computation\\scope.py -> build\\lib.win-amd64-3.9\\pandas\\core\\computation\n",
      "  copying pandas\\core\\computation\\__init__.py -> build\\lib.win-amd64-3.9\\pandas\\core\\computation\n",
      "  creating build\\lib.win-amd64-3.9\\pandas\\core\\dtypes\n",
      "  copying pandas\\core\\dtypes\\api.py -> build\\lib.win-amd64-3.9\\pandas\\core\\dtypes\n",
      "  copying pandas\\core\\dtypes\\base.py -> build\\lib.win-amd64-3.9\\pandas\\core\\dtypes\n",
      "  copying pandas\\core\\dtypes\\cast.py -> build\\lib.win-amd64-3.9\\pandas\\core\\dtypes\n",
      "  copying pandas\\core\\dtypes\\common.py -> build\\lib.win-amd64-3.9\\pandas\\core\\dtypes\n",
      "  copying pandas\\core\\dtypes\\concat.py -> build\\lib.win-amd64-3.9\\pandas\\core\\dtypes\n",
      "  copying pandas\\core\\dtypes\\dtypes.py -> build\\lib.win-amd64-3.9\\pandas\\core\\dtypes\n",
      "  copying pandas\\core\\dtypes\\generic.py -> build\\lib.win-amd64-3.9\\pandas\\core\\dtypes\n",
      "  copying pandas\\core\\dtypes\\inference.py -> build\\lib.win-amd64-3.9\\pandas\\core\\dtypes\n",
      "  copying pandas\\core\\dtypes\\missing.py -> build\\lib.win-amd64-3.9\\pandas\\core\\dtypes\n",
      "  copying pandas\\core\\dtypes\\__init__.py -> build\\lib.win-amd64-3.9\\pandas\\core\\dtypes\n",
      "  creating build\\lib.win-amd64-3.9\\pandas\\core\\groupby\n",
      "  copying pandas\\core\\groupby\\base.py -> build\\lib.win-amd64-3.9\\pandas\\core\\groupby\n",
      "  copying pandas\\core\\groupby\\categorical.py -> build\\lib.win-amd64-3.9\\pandas\\core\\groupby\n",
      "  copying pandas\\core\\groupby\\generic.py -> build\\lib.win-amd64-3.9\\pandas\\core\\groupby\n",
      "  copying pandas\\core\\groupby\\groupby.py -> build\\lib.win-amd64-3.9\\pandas\\core\\groupby\n",
      "  copying pandas\\core\\groupby\\grouper.py -> build\\lib.win-amd64-3.9\\pandas\\core\\groupby\n",
      "  copying pandas\\core\\groupby\\ops.py -> build\\lib.win-amd64-3.9\\pandas\\core\\groupby\n",
      "  copying pandas\\core\\groupby\\__init__.py -> build\\lib.win-amd64-3.9\\pandas\\core\\groupby\n",
      "  creating build\\lib.win-amd64-3.9\\pandas\\core\\indexes\n",
      "  copying pandas\\core\\indexes\\accessors.py -> build\\lib.win-amd64-3.9\\pandas\\core\\indexes\n",
      "  copying pandas\\core\\indexes\\api.py -> build\\lib.win-amd64-3.9\\pandas\\core\\indexes\n",
      "  copying pandas\\core\\indexes\\base.py -> build\\lib.win-amd64-3.9\\pandas\\core\\indexes\n",
      "  copying pandas\\core\\indexes\\category.py -> build\\lib.win-amd64-3.9\\pandas\\core\\indexes\n",
      "  copying pandas\\core\\indexes\\datetimelike.py -> build\\lib.win-amd64-3.9\\pandas\\core\\indexes\n",
      "  copying pandas\\core\\indexes\\datetimes.py -> build\\lib.win-amd64-3.9\\pandas\\core\\indexes\n",
      "  copying pandas\\core\\indexes\\frozen.py -> build\\lib.win-amd64-3.9\\pandas\\core\\indexes\n",
      "  copying pandas\\core\\indexes\\interval.py -> build\\lib.win-amd64-3.9\\pandas\\core\\indexes\n",
      "  copying pandas\\core\\indexes\\multi.py -> build\\lib.win-amd64-3.9\\pandas\\core\\indexes\n",
      "  copying pandas\\core\\indexes\\numeric.py -> build\\lib.win-amd64-3.9\\pandas\\core\\indexes\n",
      "  copying pandas\\core\\indexes\\period.py -> build\\lib.win-amd64-3.9\\pandas\\core\\indexes\n",
      "  copying pandas\\core\\indexes\\range.py -> build\\lib.win-amd64-3.9\\pandas\\core\\indexes\n",
      "  copying pandas\\core\\indexes\\timedeltas.py -> build\\lib.win-amd64-3.9\\pandas\\core\\indexes\n",
      "  copying pandas\\core\\indexes\\__init__.py -> build\\lib.win-amd64-3.9\\pandas\\core\\indexes\n",
      "  creating build\\lib.win-amd64-3.9\\pandas\\core\\internals\n",
      "  copying pandas\\core\\internals\\arrays.py -> build\\lib.win-amd64-3.9\\pandas\\core\\internals\n",
      "  copying pandas\\core\\internals\\blocks.py -> build\\lib.win-amd64-3.9\\pandas\\core\\internals\n",
      "  copying pandas\\core\\internals\\concat.py -> build\\lib.win-amd64-3.9\\pandas\\core\\internals\n",
      "  copying pandas\\core\\internals\\construction.py -> build\\lib.win-amd64-3.9\\pandas\\core\\internals\n",
      "  copying pandas\\core\\internals\\managers.py -> build\\lib.win-amd64-3.9\\pandas\\core\\internals\n",
      "  copying pandas\\core\\internals\\__init__.py -> build\\lib.win-amd64-3.9\\pandas\\core\\internals\n",
      "  creating build\\lib.win-amd64-3.9\\pandas\\core\\ops\n",
      "  copying pandas\\core\\ops\\docstrings.py -> build\\lib.win-amd64-3.9\\pandas\\core\\ops\n",
      "  copying pandas\\core\\ops\\missing.py -> build\\lib.win-amd64-3.9\\pandas\\core\\ops\n",
      "  copying pandas\\core\\ops\\roperator.py -> build\\lib.win-amd64-3.9\\pandas\\core\\ops\n",
      "  copying pandas\\core\\ops\\__init__.py -> build\\lib.win-amd64-3.9\\pandas\\core\\ops\n",
      "  creating build\\lib.win-amd64-3.9\\pandas\\core\\reshape\n",
      "  copying pandas\\core\\reshape\\api.py -> build\\lib.win-amd64-3.9\\pandas\\core\\reshape\n",
      "  copying pandas\\core\\reshape\\concat.py -> build\\lib.win-amd64-3.9\\pandas\\core\\reshape\n",
      "  copying pandas\\core\\reshape\\melt.py -> build\\lib.win-amd64-3.9\\pandas\\core\\reshape\n",
      "  copying pandas\\core\\reshape\\merge.py -> build\\lib.win-amd64-3.9\\pandas\\core\\reshape\n",
      "  copying pandas\\core\\reshape\\pivot.py -> build\\lib.win-amd64-3.9\\pandas\\core\\reshape\n",
      "  copying pandas\\core\\reshape\\reshape.py -> build\\lib.win-amd64-3.9\\pandas\\core\\reshape\n",
      "  copying pandas\\core\\reshape\\tile.py -> build\\lib.win-amd64-3.9\\pandas\\core\\reshape\n",
      "  copying pandas\\core\\reshape\\util.py -> build\\lib.win-amd64-3.9\\pandas\\core\\reshape\n",
      "  copying pandas\\core\\reshape\\__init__.py -> build\\lib.win-amd64-3.9\\pandas\\core\\reshape\n",
      "  creating build\\lib.win-amd64-3.9\\pandas\\core\\sparse\n",
      "  copying pandas\\core\\sparse\\api.py -> build\\lib.win-amd64-3.9\\pandas\\core\\sparse\n",
      "  copying pandas\\core\\sparse\\frame.py -> build\\lib.win-amd64-3.9\\pandas\\core\\sparse\n",
      "  copying pandas\\core\\sparse\\scipy_sparse.py -> build\\lib.win-amd64-3.9\\pandas\\core\\sparse\n",
      "  copying pandas\\core\\sparse\\series.py -> build\\lib.win-amd64-3.9\\pandas\\core\\sparse\n",
      "  copying pandas\\core\\sparse\\__init__.py -> build\\lib.win-amd64-3.9\\pandas\\core\\sparse\n",
      "  creating build\\lib.win-amd64-3.9\\pandas\\core\\tools\n",
      "  copying pandas\\core\\tools\\datetimes.py -> build\\lib.win-amd64-3.9\\pandas\\core\\tools\n",
      "  copying pandas\\core\\tools\\numeric.py -> build\\lib.win-amd64-3.9\\pandas\\core\\tools\n",
      "  copying pandas\\core\\tools\\timedeltas.py -> build\\lib.win-amd64-3.9\\pandas\\core\\tools\n",
      "  copying pandas\\core\\tools\\__init__.py -> build\\lib.win-amd64-3.9\\pandas\\core\\tools\n",
      "  creating build\\lib.win-amd64-3.9\\pandas\\core\\util\n",
      "  copying pandas\\core\\util\\hashing.py -> build\\lib.win-amd64-3.9\\pandas\\core\\util\n",
      "  copying pandas\\core\\util\\__init__.py -> build\\lib.win-amd64-3.9\\pandas\\core\\util\n",
      "  creating build\\lib.win-amd64-3.9\\pandas\\io\\clipboard\n",
      "  copying pandas\\io\\clipboard\\clipboards.py -> build\\lib.win-amd64-3.9\\pandas\\io\\clipboard\n",
      "  copying pandas\\io\\clipboard\\exceptions.py -> build\\lib.win-amd64-3.9\\pandas\\io\\clipboard\n",
      "  copying pandas\\io\\clipboard\\windows.py -> build\\lib.win-amd64-3.9\\pandas\\io\\clipboard\n",
      "  copying pandas\\io\\clipboard\\__init__.py -> build\\lib.win-amd64-3.9\\pandas\\io\\clipboard\n",
      "  creating build\\lib.win-amd64-3.9\\pandas\\io\\excel\n",
      "  copying pandas\\io\\excel\\_base.py -> build\\lib.win-amd64-3.9\\pandas\\io\\excel\n",
      "  copying pandas\\io\\excel\\_odfreader.py -> build\\lib.win-amd64-3.9\\pandas\\io\\excel\n",
      "  copying pandas\\io\\excel\\_openpyxl.py -> build\\lib.win-amd64-3.9\\pandas\\io\\excel\n",
      "  copying pandas\\io\\excel\\_util.py -> build\\lib.win-amd64-3.9\\pandas\\io\\excel\n",
      "  copying pandas\\io\\excel\\_xlrd.py -> build\\lib.win-amd64-3.9\\pandas\\io\\excel\n",
      "  copying pandas\\io\\excel\\_xlsxwriter.py -> build\\lib.win-amd64-3.9\\pandas\\io\\excel\n",
      "  copying pandas\\io\\excel\\_xlwt.py -> build\\lib.win-amd64-3.9\\pandas\\io\\excel\n",
      "  copying pandas\\io\\excel\\__init__.py -> build\\lib.win-amd64-3.9\\pandas\\io\\excel\n",
      "  creating build\\lib.win-amd64-3.9\\pandas\\io\\formats\n",
      "  copying pandas\\io\\formats\\console.py -> build\\lib.win-amd64-3.9\\pandas\\io\\formats\n",
      "  copying pandas\\io\\formats\\css.py -> build\\lib.win-amd64-3.9\\pandas\\io\\formats\n",
      "  copying pandas\\io\\formats\\csvs.py -> build\\lib.win-amd64-3.9\\pandas\\io\\formats\n",
      "  copying pandas\\io\\formats\\excel.py -> build\\lib.win-amd64-3.9\\pandas\\io\\formats\n",
      "  copying pandas\\io\\formats\\format.py -> build\\lib.win-amd64-3.9\\pandas\\io\\formats\n",
      "  copying pandas\\io\\formats\\html.py -> build\\lib.win-amd64-3.9\\pandas\\io\\formats\n",
      "  copying pandas\\io\\formats\\latex.py -> build\\lib.win-amd64-3.9\\pandas\\io\\formats\n",
      "  copying pandas\\io\\formats\\printing.py -> build\\lib.win-amd64-3.9\\pandas\\io\\formats\n",
      "  copying pandas\\io\\formats\\style.py -> build\\lib.win-amd64-3.9\\pandas\\io\\formats\n",
      "  copying pandas\\io\\formats\\__init__.py -> build\\lib.win-amd64-3.9\\pandas\\io\\formats\n",
      "  creating build\\lib.win-amd64-3.9\\pandas\\io\\json\n",
      "  copying pandas\\io\\json\\_json.py -> build\\lib.win-amd64-3.9\\pandas\\io\\json\n",
      "  copying pandas\\io\\json\\_normalize.py -> build\\lib.win-amd64-3.9\\pandas\\io\\json\n",
      "  copying pandas\\io\\json\\_table_schema.py -> build\\lib.win-amd64-3.9\\pandas\\io\\json\n",
      "  copying pandas\\io\\json\\__init__.py -> build\\lib.win-amd64-3.9\\pandas\\io\\json\n",
      "  creating build\\lib.win-amd64-3.9\\pandas\\io\\msgpack\n",
      "  copying pandas\\io\\msgpack\\exceptions.py -> build\\lib.win-amd64-3.9\\pandas\\io\\msgpack\n",
      "  copying pandas\\io\\msgpack\\_version.py -> build\\lib.win-amd64-3.9\\pandas\\io\\msgpack\n",
      "  copying pandas\\io\\msgpack\\__init__.py -> build\\lib.win-amd64-3.9\\pandas\\io\\msgpack\n",
      "  creating build\\lib.win-amd64-3.9\\pandas\\io\\sas\n",
      "  copying pandas\\io\\sas\\sas7bdat.py -> build\\lib.win-amd64-3.9\\pandas\\io\\sas\n",
      "  copying pandas\\io\\sas\\sasreader.py -> build\\lib.win-amd64-3.9\\pandas\\io\\sas\n",
      "  copying pandas\\io\\sas\\sas_constants.py -> build\\lib.win-amd64-3.9\\pandas\\io\\sas\n",
      "  copying pandas\\io\\sas\\sas_xport.py -> build\\lib.win-amd64-3.9\\pandas\\io\\sas\n",
      "  copying pandas\\io\\sas\\__init__.py -> build\\lib.win-amd64-3.9\\pandas\\io\\sas\n",
      "  creating build\\lib.win-amd64-3.9\\pandas\\plotting\\_matplotlib\n",
      "  copying pandas\\plotting\\_matplotlib\\boxplot.py -> build\\lib.win-amd64-3.9\\pandas\\plotting\\_matplotlib\n",
      "  copying pandas\\plotting\\_matplotlib\\compat.py -> build\\lib.win-amd64-3.9\\pandas\\plotting\\_matplotlib\n",
      "  copying pandas\\plotting\\_matplotlib\\converter.py -> build\\lib.win-amd64-3.9\\pandas\\plotting\\_matplotlib\n",
      "  copying pandas\\plotting\\_matplotlib\\core.py -> build\\lib.win-amd64-3.9\\pandas\\plotting\\_matplotlib\n",
      "  copying pandas\\plotting\\_matplotlib\\hist.py -> build\\lib.win-amd64-3.9\\pandas\\plotting\\_matplotlib\n",
      "  copying pandas\\plotting\\_matplotlib\\misc.py -> build\\lib.win-amd64-3.9\\pandas\\plotting\\_matplotlib\n",
      "  copying pandas\\plotting\\_matplotlib\\style.py -> build\\lib.win-amd64-3.9\\pandas\\plotting\\_matplotlib\n",
      "  copying pandas\\plotting\\_matplotlib\\timeseries.py -> build\\lib.win-amd64-3.9\\pandas\\plotting\\_matplotlib\n",
      "  copying pandas\\plotting\\_matplotlib\\tools.py -> build\\lib.win-amd64-3.9\\pandas\\plotting\\_matplotlib\n",
      "  copying pandas\\plotting\\_matplotlib\\__init__.py -> build\\lib.win-amd64-3.9\\pandas\\plotting\\_matplotlib\n",
      "  creating build\\lib.win-amd64-3.9\\pandas\\tests\\api\n",
      "  copying pandas\\tests\\api\\test_api.py -> build\\lib.win-amd64-3.9\\pandas\\tests\\api\n",
      "  copying pandas\\tests\\api\\test_types.py -> build\\lib.win-amd64-3.9\\pandas\\tests\\api\n",
      "  copying pandas\\tests\\api\\__init__.py -> build\\lib.win-amd64-3.9\\pandas\\tests\\api\n",
      "  creating build\\lib.win-amd64-3.9\\pandas\\tests\\arithmetic\n",
      "  copying pandas\\tests\\arithmetic\\conftest.py -> build\\lib.win-amd64-3.9\\pandas\\tests\\arithmetic\n",
      "  copying pandas\\tests\\arithmetic\\test_datetime64.py -> build\\lib.win-amd64-3.9\\pandas\\tests\\arithmetic\n",
      "  copying pandas\\tests\\arithmetic\\test_numeric.py -> build\\lib.win-amd64-3.9\\pandas\\tests\\arithmetic\n",
      "  copying pandas\\tests\\arithmetic\\test_object.py -> build\\lib.win-amd64-3.9\\pandas\\tests\\arithmetic\n",
      "  copying pandas\\tests\\arithmetic\\test_period.py -> build\\lib.win-amd64-3.9\\pandas\\tests\\arithmetic\n",
      "  copying pandas\\tests\\arithmetic\\test_timedelta64.py -> build\\lib.win-amd64-3.9\\pandas\\tests\\arithmetic\n",
      "  copying pandas\\tests\\arithmetic\\__init__.py -> build\\lib.win-amd64-3.9\\pandas\\tests\\arithmetic\n",
      "  creating build\\lib.win-amd64-3.9\\pandas\\tests\\arrays\n",
      "  copying pandas\\tests\\arrays\\test_array.py -> build\\lib.win-amd64-3.9\\pandas\\tests\\arrays\n",
      "  copying pandas\\tests\\arrays\\test_datetimelike.py -> build\\lib.win-amd64-3.9\\pandas\\tests\\arrays\n",
      "  copying pandas\\tests\\arrays\\test_datetimes.py -> build\\lib.win-amd64-3.9\\pandas\\tests\\arrays\n",
      "  copying pandas\\tests\\arrays\\test_integer.py -> build\\lib.win-amd64-3.9\\pandas\\tests\\arrays\n",
      "  copying pandas\\tests\\arrays\\test_numpy.py -> build\\lib.win-amd64-3.9\\pandas\\tests\\arrays\n",
      "  copying pandas\\tests\\arrays\\test_period.py -> build\\lib.win-amd64-3.9\\pandas\\tests\\arrays\n",
      "  copying pandas\\tests\\arrays\\test_timedeltas.py -> build\\lib.win-amd64-3.9\\pandas\\tests\\arrays\n",
      "  copying pandas\\tests\\arrays\\__init__.py -> build\\lib.win-amd64-3.9\\pandas\\tests\\arrays\n",
      "  creating build\\lib.win-amd64-3.9\\pandas\\tests\\computation\n",
      "  copying pandas\\tests\\computation\\test_compat.py -> build\\lib.win-amd64-3.9\\pandas\\tests\\computation\n",
      "  copying pandas\\tests\\computation\\test_eval.py -> build\\lib.win-amd64-3.9\\pandas\\tests\\computation\n",
      "  copying pandas\\tests\\computation\\__init__.py -> build\\lib.win-amd64-3.9\\pandas\\tests\\computation\n",
      "  creating build\\lib.win-amd64-3.9\\pandas\\tests\\config\n",
      "  copying pandas\\tests\\config\\test_config.py -> build\\lib.win-amd64-3.9\\pandas\\tests\\config\n",
      "  copying pandas\\tests\\config\\test_localization.py -> build\\lib.win-amd64-3.9\\pandas\\tests\\config\n",
      "  copying pandas\\tests\\config\\__init__.py -> build\\lib.win-amd64-3.9\\pandas\\tests\\config\n",
      "  creating build\\lib.win-amd64-3.9\\pandas\\tests\\dtypes\n",
      "  copying pandas\\tests\\dtypes\\test_common.py -> build\\lib.win-amd64-3.9\\pandas\\tests\\dtypes\n",
      "  copying pandas\\tests\\dtypes\\test_concat.py -> build\\lib.win-amd64-3.9\\pandas\\tests\\dtypes\n",
      "  copying pandas\\tests\\dtypes\\test_dtypes.py -> build\\lib.win-amd64-3.9\\pandas\\tests\\dtypes\n",
      "  copying pandas\\tests\\dtypes\\test_generic.py -> build\\lib.win-amd64-3.9\\pandas\\tests\\dtypes\n",
      "  copying pandas\\tests\\dtypes\\test_inference.py -> build\\lib.win-amd64-3.9\\pandas\\tests\\dtypes\n",
      "  copying pandas\\tests\\dtypes\\test_missing.py -> build\\lib.win-amd64-3.9\\pandas\\tests\\dtypes\n",
      "  copying pandas\\tests\\dtypes\\__init__.py -> build\\lib.win-amd64-3.9\\pandas\\tests\\dtypes\n",
      "  creating build\\lib.win-amd64-3.9\\pandas\\tests\\extension\n",
      "  copying pandas\\tests\\extension\\conftest.py -> build\\lib.win-amd64-3.9\\pandas\\tests\\extension\n",
      "  copying pandas\\tests\\extension\\test_categorical.py -> build\\lib.win-amd64-3.9\\pandas\\tests\\extension\n",
      "  copying pandas\\tests\\extension\\test_common.py -> build\\lib.win-amd64-3.9\\pandas\\tests\\extension\n",
      "  copying pandas\\tests\\extension\\test_datetime.py -> build\\lib.win-amd64-3.9\\pandas\\tests\\extension\n",
      "  copying pandas\\tests\\extension\\test_external_block.py -> build\\lib.win-amd64-3.9\\pandas\\tests\\extension\n",
      "  copying pandas\\tests\\extension\\test_integer.py -> build\\lib.win-amd64-3.9\\pandas\\tests\\extension\n",
      "  copying pandas\\tests\\extension\\test_interval.py -> build\\lib.win-amd64-3.9\\pandas\\tests\\extension\n",
      "  copying pandas\\tests\\extension\\test_numpy.py -> build\\lib.win-amd64-3.9\\pandas\\tests\\extension\n",
      "  copying pandas\\tests\\extension\\test_period.py -> build\\lib.win-amd64-3.9\\pandas\\tests\\extension\n",
      "  copying pandas\\tests\\extension\\test_sparse.py -> build\\lib.win-amd64-3.9\\pandas\\tests\\extension\n",
      "  copying pandas\\tests\\extension\\__init__.py -> build\\lib.win-amd64-3.9\\pandas\\tests\\extension\n",
      "  creating build\\lib.win-amd64-3.9\\pandas\\tests\\frame\n",
      "  copying pandas\\tests\\frame\\common.py -> build\\lib.win-amd64-3.9\\pandas\\tests\\frame\n",
      "  copying pandas\\tests\\frame\\conftest.py -> build\\lib.win-amd64-3.9\\pandas\\tests\\frame\n",
      "  copying pandas\\tests\\frame\\test_alter_axes.py -> build\\lib.win-amd64-3.9\\pandas\\tests\\frame\n",
      "  copying pandas\\tests\\frame\\test_analytics.py -> build\\lib.win-amd64-3.9\\pandas\\tests\\frame\n",
      "  copying pandas\\tests\\frame\\test_api.py -> build\\lib.win-amd64-3.9\\pandas\\tests\\frame\n",
      "  copying pandas\\tests\\frame\\test_apply.py -> build\\lib.win-amd64-3.9\\pandas\\tests\\frame\n",
      "  copying pandas\\tests\\frame\\test_arithmetic.py -> build\\lib.win-amd64-3.9\\pandas\\tests\\frame\n",
      "  copying pandas\\tests\\frame\\test_asof.py -> build\\lib.win-amd64-3.9\\pandas\\tests\\frame\n",
      "  copying pandas\\tests\\frame\\test_axis_select_reindex.py -> build\\lib.win-amd64-3.9\\pandas\\tests\\frame\n",
      "  copying pandas\\tests\\frame\\test_block_internals.py -> build\\lib.win-amd64-3.9\\pandas\\tests\\frame\n",
      "  copying pandas\\tests\\frame\\test_combine_concat.py -> build\\lib.win-amd64-3.9\\pandas\\tests\\frame\n",
      "  copying pandas\\tests\\frame\\test_constructors.py -> build\\lib.win-amd64-3.9\\pandas\\tests\\frame\n",
      "  copying pandas\\tests\\frame\\test_convert_to.py -> build\\lib.win-amd64-3.9\\pandas\\tests\\frame\n",
      "  copying pandas\\tests\\frame\\test_dtypes.py -> build\\lib.win-amd64-3.9\\pandas\\tests\\frame\n",
      "  copying pandas\\tests\\frame\\test_duplicates.py -> build\\lib.win-amd64-3.9\\pandas\\tests\\frame\n",
      "  copying pandas\\tests\\frame\\test_explode.py -> build\\lib.win-amd64-3.9\\pandas\\tests\\frame\n",
      "  copying pandas\\tests\\frame\\test_indexing.py -> build\\lib.win-amd64-3.9\\pandas\\tests\\frame\n",
      "  copying pandas\\tests\\frame\\test_join.py -> build\\lib.win-amd64-3.9\\pandas\\tests\\frame\n",
      "  copying pandas\\tests\\frame\\test_missing.py -> build\\lib.win-amd64-3.9\\pandas\\tests\\frame\n",
      "  copying pandas\\tests\\frame\\test_mutate_columns.py -> build\\lib.win-amd64-3.9\\pandas\\tests\\frame\n",
      "  copying pandas\\tests\\frame\\test_nonunique_indexes.py -> build\\lib.win-amd64-3.9\\pandas\\tests\\frame\n",
      "  copying pandas\\tests\\frame\\test_operators.py -> build\\lib.win-amd64-3.9\\pandas\\tests\\frame\n",
      "  copying pandas\\tests\\frame\\test_period.py -> build\\lib.win-amd64-3.9\\pandas\\tests\\frame\n",
      "  copying pandas\\tests\\frame\\test_quantile.py -> build\\lib.win-amd64-3.9\\pandas\\tests\\frame\n",
      "  copying pandas\\tests\\frame\\test_query_eval.py -> build\\lib.win-amd64-3.9\\pandas\\tests\\frame\n",
      "  copying pandas\\tests\\frame\\test_rank.py -> build\\lib.win-amd64-3.9\\pandas\\tests\\frame\n",
      "  copying pandas\\tests\\frame\\test_replace.py -> build\\lib.win-amd64-3.9\\pandas\\tests\\frame\n",
      "  copying pandas\\tests\\frame\\test_repr_info.py -> build\\lib.win-amd64-3.9\\pandas\\tests\\frame\n",
      "  copying pandas\\tests\\frame\\test_reshape.py -> build\\lib.win-amd64-3.9\\pandas\\tests\\frame\n",
      "  copying pandas\\tests\\frame\\test_sorting.py -> build\\lib.win-amd64-3.9\\pandas\\tests\\frame\n",
      "  copying pandas\\tests\\frame\\test_sort_values_level_as_str.py -> build\\lib.win-amd64-3.9\\pandas\\tests\\frame\n",
      "  copying pandas\\tests\\frame\\test_subclass.py -> build\\lib.win-amd64-3.9\\pandas\\tests\\frame\n",
      "  copying pandas\\tests\\frame\\test_timeseries.py -> build\\lib.win-amd64-3.9\\pandas\\tests\\frame\n",
      "  copying pandas\\tests\\frame\\test_timezones.py -> build\\lib.win-amd64-3.9\\pandas\\tests\\frame\n",
      "  copying pandas\\tests\\frame\\test_to_csv.py -> build\\lib.win-amd64-3.9\\pandas\\tests\\frame\n",
      "  copying pandas\\tests\\frame\\test_validate.py -> build\\lib.win-amd64-3.9\\pandas\\tests\\frame\n",
      "  copying pandas\\tests\\frame\\__init__.py -> build\\lib.win-amd64-3.9\\pandas\\tests\\frame\n",
      "  creating build\\lib.win-amd64-3.9\\pandas\\tests\\generic\n",
      "  copying pandas\\tests\\generic\\test_frame.py -> build\\lib.win-amd64-3.9\\pandas\\tests\\generic\n",
      "  copying pandas\\tests\\generic\\test_generic.py -> build\\lib.win-amd64-3.9\\pandas\\tests\\generic\n",
      "  copying pandas\\tests\\generic\\test_label_or_level_utils.py -> build\\lib.win-amd64-3.9\\pandas\\tests\\generic\n",
      "  copying pandas\\tests\\generic\\test_series.py -> build\\lib.win-amd64-3.9\\pandas\\tests\\generic\n",
      "  copying pandas\\tests\\generic\\__init__.py -> build\\lib.win-amd64-3.9\\pandas\\tests\\generic\n",
      "  creating build\\lib.win-amd64-3.9\\pandas\\tests\\groupby\n",
      "  copying pandas\\tests\\groupby\\conftest.py -> build\\lib.win-amd64-3.9\\pandas\\tests\\groupby\n",
      "  copying pandas\\tests\\groupby\\test_apply.py -> build\\lib.win-amd64-3.9\\pandas\\tests\\groupby\n",
      "  copying pandas\\tests\\groupby\\test_bin_groupby.py -> build\\lib.win-amd64-3.9\\pandas\\tests\\groupby\n",
      "  copying pandas\\tests\\groupby\\test_categorical.py -> build\\lib.win-amd64-3.9\\pandas\\tests\\groupby\n",
      "  copying pandas\\tests\\groupby\\test_counting.py -> build\\lib.win-amd64-3.9\\pandas\\tests\\groupby\n",
      "  copying pandas\\tests\\groupby\\test_filters.py -> build\\lib.win-amd64-3.9\\pandas\\tests\\groupby\n",
      "  copying pandas\\tests\\groupby\\test_function.py -> build\\lib.win-amd64-3.9\\pandas\\tests\\groupby\n",
      "  copying pandas\\tests\\groupby\\test_groupby.py -> build\\lib.win-amd64-3.9\\pandas\\tests\\groupby\n",
      "  copying pandas\\tests\\groupby\\test_grouping.py -> build\\lib.win-amd64-3.9\\pandas\\tests\\groupby\n",
      "  copying pandas\\tests\\groupby\\test_index_as_string.py -> build\\lib.win-amd64-3.9\\pandas\\tests\\groupby\n",
      "  copying pandas\\tests\\groupby\\test_nth.py -> build\\lib.win-amd64-3.9\\pandas\\tests\\groupby\n",
      "  copying pandas\\tests\\groupby\\test_rank.py -> build\\lib.win-amd64-3.9\\pandas\\tests\\groupby\n",
      "  copying pandas\\tests\\groupby\\test_timegrouper.py -> build\\lib.win-amd64-3.9\\pandas\\tests\\groupby\n",
      "  copying pandas\\tests\\groupby\\test_transform.py -> build\\lib.win-amd64-3.9\\pandas\\tests\\groupby\n",
      "  copying pandas\\tests\\groupby\\test_value_counts.py -> build\\lib.win-amd64-3.9\\pandas\\tests\\groupby\n",
      "  copying pandas\\tests\\groupby\\test_whitelist.py -> build\\lib.win-amd64-3.9\\pandas\\tests\\groupby\n",
      "  copying pandas\\tests\\groupby\\__init__.py -> build\\lib.win-amd64-3.9\\pandas\\tests\\groupby\n",
      "  creating build\\lib.win-amd64-3.9\\pandas\\tests\\indexes\n",
      "  copying pandas\\tests\\indexes\\common.py -> build\\lib.win-amd64-3.9\\pandas\\tests\\indexes\n",
      "  copying pandas\\tests\\indexes\\conftest.py -> build\\lib.win-amd64-3.9\\pandas\\tests\\indexes\n",
      "  copying pandas\\tests\\indexes\\datetimelike.py -> build\\lib.win-amd64-3.9\\pandas\\tests\\indexes\n",
      "  copying pandas\\tests\\indexes\\test_base.py -> build\\lib.win-amd64-3.9\\pandas\\tests\\indexes\n",
      "  copying pandas\\tests\\indexes\\test_category.py -> build\\lib.win-amd64-3.9\\pandas\\tests\\indexes\n",
      "  copying pandas\\tests\\indexes\\test_common.py -> build\\lib.win-amd64-3.9\\pandas\\tests\\indexes\n",
      "  copying pandas\\tests\\indexes\\test_frozen.py -> build\\lib.win-amd64-3.9\\pandas\\tests\\indexes\n",
      "  copying pandas\\tests\\indexes\\test_numeric.py -> build\\lib.win-amd64-3.9\\pandas\\tests\\indexes\n",
      "  copying pandas\\tests\\indexes\\test_numpy_compat.py -> build\\lib.win-amd64-3.9\\pandas\\tests\\indexes\n",
      "  copying pandas\\tests\\indexes\\test_range.py -> build\\lib.win-amd64-3.9\\pandas\\tests\\indexes\n",
      "  copying pandas\\tests\\indexes\\test_setops.py -> build\\lib.win-amd64-3.9\\pandas\\tests\\indexes\n",
      "  copying pandas\\tests\\indexes\\__init__.py -> build\\lib.win-amd64-3.9\\pandas\\tests\\indexes\n",
      "  creating build\\lib.win-amd64-3.9\\pandas\\tests\\indexing\n",
      "  copying pandas\\tests\\indexing\\common.py -> build\\lib.win-amd64-3.9\\pandas\\tests\\indexing\n",
      "  copying pandas\\tests\\indexing\\conftest.py -> build\\lib.win-amd64-3.9\\pandas\\tests\\indexing\n",
      "  copying pandas\\tests\\indexing\\test_callable.py -> build\\lib.win-amd64-3.9\\pandas\\tests\\indexing\n",
      "  copying pandas\\tests\\indexing\\test_categorical.py -> build\\lib.win-amd64-3.9\\pandas\\tests\\indexing\n",
      "  copying pandas\\tests\\indexing\\test_chaining_and_caching.py -> build\\lib.win-amd64-3.9\\pandas\\tests\\indexing\n",
      "  copying pandas\\tests\\indexing\\test_coercion.py -> build\\lib.win-amd64-3.9\\pandas\\tests\\indexing\n",
      "  copying pandas\\tests\\indexing\\test_datetime.py -> build\\lib.win-amd64-3.9\\pandas\\tests\\indexing\n",
      "  copying pandas\\tests\\indexing\\test_floats.py -> build\\lib.win-amd64-3.9\\pandas\\tests\\indexing\n",
      "  copying pandas\\tests\\indexing\\test_iloc.py -> build\\lib.win-amd64-3.9\\pandas\\tests\\indexing\n",
      "  copying pandas\\tests\\indexing\\test_indexing.py -> build\\lib.win-amd64-3.9\\pandas\\tests\\indexing\n",
      "  copying pandas\\tests\\indexing\\test_indexing_engines.py -> build\\lib.win-amd64-3.9\\pandas\\tests\\indexing\n",
      "  copying pandas\\tests\\indexing\\test_indexing_slow.py -> build\\lib.win-amd64-3.9\\pandas\\tests\\indexing\n",
      "  copying pandas\\tests\\indexing\\test_ix.py -> build\\lib.win-amd64-3.9\\pandas\\tests\\indexing\n",
      "  copying pandas\\tests\\indexing\\test_loc.py -> build\\lib.win-amd64-3.9\\pandas\\tests\\indexing\n",
      "  copying pandas\\tests\\indexing\\test_partial.py -> build\\lib.win-amd64-3.9\\pandas\\tests\\indexing\n",
      "  copying pandas\\tests\\indexing\\test_scalar.py -> build\\lib.win-amd64-3.9\\pandas\\tests\\indexing\n",
      "  copying pandas\\tests\\indexing\\test_timedelta.py -> build\\lib.win-amd64-3.9\\pandas\\tests\\indexing\n",
      "  copying pandas\\tests\\indexing\\__init__.py -> build\\lib.win-amd64-3.9\\pandas\\tests\\indexing\n",
      "  creating build\\lib.win-amd64-3.9\\pandas\\tests\\internals\n",
      "  copying pandas\\tests\\internals\\test_internals.py -> build\\lib.win-amd64-3.9\\pandas\\tests\\internals\n",
      "  copying pandas\\tests\\internals\\__init__.py -> build\\lib.win-amd64-3.9\\pandas\\tests\\internals\n",
      "  creating build\\lib.win-amd64-3.9\\pandas\\tests\\io\n",
      "  copying pandas\\tests\\io\\conftest.py -> build\\lib.win-amd64-3.9\\pandas\\tests\\io\n",
      "  copying pandas\\tests\\io\\generate_legacy_storage_files.py -> build\\lib.win-amd64-3.9\\pandas\\tests\\io\n",
      "  copying pandas\\tests\\io\\test_clipboard.py -> build\\lib.win-amd64-3.9\\pandas\\tests\\io\n",
      "  copying pandas\\tests\\io\\test_common.py -> build\\lib.win-amd64-3.9\\pandas\\tests\\io\n",
      "  copying pandas\\tests\\io\\test_compression.py -> build\\lib.win-amd64-3.9\\pandas\\tests\\io\n",
      "  copying pandas\\tests\\io\\test_date_converters.py -> build\\lib.win-amd64-3.9\\pandas\\tests\\io\n",
      "  copying pandas\\tests\\io\\test_feather.py -> build\\lib.win-amd64-3.9\\pandas\\tests\\io\n",
      "  copying pandas\\tests\\io\\test_gbq.py -> build\\lib.win-amd64-3.9\\pandas\\tests\\io\n",
      "  copying pandas\\tests\\io\\test_gcs.py -> build\\lib.win-amd64-3.9\\pandas\\tests\\io\n",
      "  copying pandas\\tests\\io\\test_html.py -> build\\lib.win-amd64-3.9\\pandas\\tests\\io\n",
      "  copying pandas\\tests\\io\\test_packers.py -> build\\lib.win-amd64-3.9\\pandas\\tests\\io\n",
      "  copying pandas\\tests\\io\\test_parquet.py -> build\\lib.win-amd64-3.9\\pandas\\tests\\io\n",
      "  copying pandas\\tests\\io\\test_pickle.py -> build\\lib.win-amd64-3.9\\pandas\\tests\\io\n",
      "  copying pandas\\tests\\io\\test_s3.py -> build\\lib.win-amd64-3.9\\pandas\\tests\\io\n",
      "  copying pandas\\tests\\io\\test_spss.py -> build\\lib.win-amd64-3.9\\pandas\\tests\\io\n",
      "  copying pandas\\tests\\io\\test_sql.py -> build\\lib.win-amd64-3.9\\pandas\\tests\\io\n",
      "  copying pandas\\tests\\io\\test_stata.py -> build\\lib.win-amd64-3.9\\pandas\\tests\\io\n",
      "  copying pandas\\tests\\io\\__init__.py -> build\\lib.win-amd64-3.9\\pandas\\tests\\io\n",
      "  creating build\\lib.win-amd64-3.9\\pandas\\tests\\plotting\n",
      "  copying pandas\\tests\\plotting\\common.py -> build\\lib.win-amd64-3.9\\pandas\\tests\\plotting\n",
      "  copying pandas\\tests\\plotting\\test_backend.py -> build\\lib.win-amd64-3.9\\pandas\\tests\\plotting\n",
      "  copying pandas\\tests\\plotting\\test_boxplot_method.py -> build\\lib.win-amd64-3.9\\pandas\\tests\\plotting\n",
      "  copying pandas\\tests\\plotting\\test_converter.py -> build\\lib.win-amd64-3.9\\pandas\\tests\\plotting\n",
      "  copying pandas\\tests\\plotting\\test_datetimelike.py -> build\\lib.win-amd64-3.9\\pandas\\tests\\plotting\n",
      "  copying pandas\\tests\\plotting\\test_frame.py -> build\\lib.win-amd64-3.9\\pandas\\tests\\plotting\n",
      "  copying pandas\\tests\\plotting\\test_groupby.py -> build\\lib.win-amd64-3.9\\pandas\\tests\\plotting\n",
      "  copying pandas\\tests\\plotting\\test_hist_method.py -> build\\lib.win-amd64-3.9\\pandas\\tests\\plotting\n",
      "  copying pandas\\tests\\plotting\\test_misc.py -> build\\lib.win-amd64-3.9\\pandas\\tests\\plotting\n",
      "  copying pandas\\tests\\plotting\\test_series.py -> build\\lib.win-amd64-3.9\\pandas\\tests\\plotting\n",
      "  copying pandas\\tests\\plotting\\__init__.py -> build\\lib.win-amd64-3.9\\pandas\\tests\\plotting\n",
      "  creating build\\lib.win-amd64-3.9\\pandas\\tests\\reductions\n",
      "  copying pandas\\tests\\reductions\\test_reductions.py -> build\\lib.win-amd64-3.9\\pandas\\tests\\reductions\n",
      "  copying pandas\\tests\\reductions\\test_stat_reductions.py -> build\\lib.win-amd64-3.9\\pandas\\tests\\reductions\n",
      "  copying pandas\\tests\\reductions\\__init__.py -> build\\lib.win-amd64-3.9\\pandas\\tests\\reductions\n",
      "  creating build\\lib.win-amd64-3.9\\pandas\\tests\\resample\n",
      "  copying pandas\\tests\\resample\\conftest.py -> build\\lib.win-amd64-3.9\\pandas\\tests\\resample\n",
      "  copying pandas\\tests\\resample\\test_base.py -> build\\lib.win-amd64-3.9\\pandas\\tests\\resample\n",
      "  copying pandas\\tests\\resample\\test_datetime_index.py -> build\\lib.win-amd64-3.9\\pandas\\tests\\resample\n",
      "  copying pandas\\tests\\resample\\test_period_index.py -> build\\lib.win-amd64-3.9\\pandas\\tests\\resample\n",
      "  copying pandas\\tests\\resample\\test_resampler_grouper.py -> build\\lib.win-amd64-3.9\\pandas\\tests\\resample\n",
      "  copying pandas\\tests\\resample\\test_resample_api.py -> build\\lib.win-amd64-3.9\\pandas\\tests\\resample\n",
      "  copying pandas\\tests\\resample\\test_timedelta.py -> build\\lib.win-amd64-3.9\\pandas\\tests\\resample\n",
      "  copying pandas\\tests\\resample\\test_time_grouper.py -> build\\lib.win-amd64-3.9\\pandas\\tests\\resample\n",
      "  copying pandas\\tests\\resample\\__init__.py -> build\\lib.win-amd64-3.9\\pandas\\tests\\resample\n",
      "  creating build\\lib.win-amd64-3.9\\pandas\\tests\\reshape\n",
      "  copying pandas\\tests\\reshape\\test_concat.py -> build\\lib.win-amd64-3.9\\pandas\\tests\\reshape\n",
      "  copying pandas\\tests\\reshape\\test_cut.py -> build\\lib.win-amd64-3.9\\pandas\\tests\\reshape\n",
      "  copying pandas\\tests\\reshape\\test_melt.py -> build\\lib.win-amd64-3.9\\pandas\\tests\\reshape\n",
      "  copying pandas\\tests\\reshape\\test_pivot.py -> build\\lib.win-amd64-3.9\\pandas\\tests\\reshape\n",
      "  copying pandas\\tests\\reshape\\test_qcut.py -> build\\lib.win-amd64-3.9\\pandas\\tests\\reshape\n",
      "  copying pandas\\tests\\reshape\\test_reshape.py -> build\\lib.win-amd64-3.9\\pandas\\tests\\reshape\n",
      "  copying pandas\\tests\\reshape\\test_union_categoricals.py -> build\\lib.win-amd64-3.9\\pandas\\tests\\reshape\n",
      "  copying pandas\\tests\\reshape\\test_util.py -> build\\lib.win-amd64-3.9\\pandas\\tests\\reshape\n",
      "  copying pandas\\tests\\reshape\\__init__.py -> build\\lib.win-amd64-3.9\\pandas\\tests\\reshape\n",
      "  creating build\\lib.win-amd64-3.9\\pandas\\tests\\scalar\n",
      "  copying pandas\\tests\\scalar\\test_nat.py -> build\\lib.win-amd64-3.9\\pandas\\tests\\scalar\n",
      "  copying pandas\\tests\\scalar\\__init__.py -> build\\lib.win-amd64-3.9\\pandas\\tests\\scalar\n",
      "  creating build\\lib.win-amd64-3.9\\pandas\\tests\\series\n",
      "  copying pandas\\tests\\series\\common.py -> build\\lib.win-amd64-3.9\\pandas\\tests\\series\n",
      "  copying pandas\\tests\\series\\conftest.py -> build\\lib.win-amd64-3.9\\pandas\\tests\\series\n",
      "  copying pandas\\tests\\series\\test_alter_axes.py -> build\\lib.win-amd64-3.9\\pandas\\tests\\series\n",
      "  copying pandas\\tests\\series\\test_analytics.py -> build\\lib.win-amd64-3.9\\pandas\\tests\\series\n",
      "  copying pandas\\tests\\series\\test_api.py -> build\\lib.win-amd64-3.9\\pandas\\tests\\series\n",
      "  copying pandas\\tests\\series\\test_apply.py -> build\\lib.win-amd64-3.9\\pandas\\tests\\series\n",
      "  copying pandas\\tests\\series\\test_arithmetic.py -> build\\lib.win-amd64-3.9\\pandas\\tests\\series\n",
      "  copying pandas\\tests\\series\\test_asof.py -> build\\lib.win-amd64-3.9\\pandas\\tests\\series\n",
      "  copying pandas\\tests\\series\\test_block_internals.py -> build\\lib.win-amd64-3.9\\pandas\\tests\\series\n",
      "  copying pandas\\tests\\series\\test_combine_concat.py -> build\\lib.win-amd64-3.9\\pandas\\tests\\series\n",
      "  copying pandas\\tests\\series\\test_constructors.py -> build\\lib.win-amd64-3.9\\pandas\\tests\\series\n",
      "  copying pandas\\tests\\series\\test_datetime_values.py -> build\\lib.win-amd64-3.9\\pandas\\tests\\series\n",
      "  copying pandas\\tests\\series\\test_dtypes.py -> build\\lib.win-amd64-3.9\\pandas\\tests\\series\n",
      "  copying pandas\\tests\\series\\test_duplicates.py -> build\\lib.win-amd64-3.9\\pandas\\tests\\series\n",
      "  copying pandas\\tests\\series\\test_explode.py -> build\\lib.win-amd64-3.9\\pandas\\tests\\series\n",
      "  copying pandas\\tests\\series\\test_internals.py -> build\\lib.win-amd64-3.9\\pandas\\tests\\series\n",
      "  copying pandas\\tests\\series\\test_io.py -> build\\lib.win-amd64-3.9\\pandas\\tests\\series\n",
      "  copying pandas\\tests\\series\\test_missing.py -> build\\lib.win-amd64-3.9\\pandas\\tests\\series\n",
      "  copying pandas\\tests\\series\\test_operators.py -> build\\lib.win-amd64-3.9\\pandas\\tests\\series\n",
      "  copying pandas\\tests\\series\\test_period.py -> build\\lib.win-amd64-3.9\\pandas\\tests\\series\n",
      "  copying pandas\\tests\\series\\test_quantile.py -> build\\lib.win-amd64-3.9\\pandas\\tests\\series\n",
      "  copying pandas\\tests\\series\\test_rank.py -> build\\lib.win-amd64-3.9\\pandas\\tests\\series\n",
      "  copying pandas\\tests\\series\\test_replace.py -> build\\lib.win-amd64-3.9\\pandas\\tests\\series\n",
      "  copying pandas\\tests\\series\\test_repr.py -> build\\lib.win-amd64-3.9\\pandas\\tests\\series\n",
      "  copying pandas\\tests\\series\\test_sorting.py -> build\\lib.win-amd64-3.9\\pandas\\tests\\series\n",
      "  copying pandas\\tests\\series\\test_subclass.py -> build\\lib.win-amd64-3.9\\pandas\\tests\\series\n",
      "  copying pandas\\tests\\series\\test_timeseries.py -> build\\lib.win-amd64-3.9\\pandas\\tests\\series\n",
      "  copying pandas\\tests\\series\\test_timezones.py -> build\\lib.win-amd64-3.9\\pandas\\tests\\series\n",
      "  copying pandas\\tests\\series\\test_ufunc.py -> build\\lib.win-amd64-3.9\\pandas\\tests\\series\n",
      "  copying pandas\\tests\\series\\test_validate.py -> build\\lib.win-amd64-3.9\\pandas\\tests\\series\n",
      "  copying pandas\\tests\\series\\__init__.py -> build\\lib.win-amd64-3.9\\pandas\\tests\\series\n",
      "  creating build\\lib.win-amd64-3.9\\pandas\\tests\\sparse\n",
      "  copying pandas\\tests\\sparse\\common.py -> build\\lib.win-amd64-3.9\\pandas\\tests\\sparse\n",
      "  copying pandas\\tests\\sparse\\test_combine_concat.py -> build\\lib.win-amd64-3.9\\pandas\\tests\\sparse"
     ]
    }
   ],
   "source": [
    "# Upgrade pandas to use dataframe.explode() function. \n",
    "!pip install --upgrade pandas==0.25.0"
   ]
  },
  {
   "cell_type": "markdown",
   "metadata": {},
   "source": [
    "<a id='wrangling'></a>\n",
    "## Data Wrangling"
   ]
  },
  {
   "cell_type": "markdown",
   "metadata": {},
   "source": [
    "Loading the `noshowappointments.csv` file into a dataframe using the pandas `read_csv()` function."
   ]
  },
  {
   "cell_type": "code",
   "execution_count": 2,
   "metadata": {},
   "outputs": [
    {
     "data": {
      "text/html": [
       "<div>\n",
       "<style scoped>\n",
       "    .dataframe tbody tr th:only-of-type {\n",
       "        vertical-align: middle;\n",
       "    }\n",
       "\n",
       "    .dataframe tbody tr th {\n",
       "        vertical-align: top;\n",
       "    }\n",
       "\n",
       "    .dataframe thead th {\n",
       "        text-align: right;\n",
       "    }\n",
       "</style>\n",
       "<table border=\"1\" class=\"dataframe\">\n",
       "  <thead>\n",
       "    <tr style=\"text-align: right;\">\n",
       "      <th></th>\n",
       "      <th>PatientId</th>\n",
       "      <th>AppointmentID</th>\n",
       "      <th>Gender</th>\n",
       "      <th>ScheduledDay</th>\n",
       "      <th>AppointmentDay</th>\n",
       "      <th>Age</th>\n",
       "      <th>Neighbourhood</th>\n",
       "      <th>Scholarship</th>\n",
       "      <th>Hipertension</th>\n",
       "      <th>Diabetes</th>\n",
       "      <th>Alcoholism</th>\n",
       "      <th>Handcap</th>\n",
       "      <th>SMS_received</th>\n",
       "      <th>No-show</th>\n",
       "    </tr>\n",
       "  </thead>\n",
       "  <tbody>\n",
       "    <tr>\n",
       "      <th>0</th>\n",
       "      <td>2.990000e+13</td>\n",
       "      <td>5642903</td>\n",
       "      <td>F</td>\n",
       "      <td>2016-04-29T18:38:08Z</td>\n",
       "      <td>2016-04-29T00:00:00Z</td>\n",
       "      <td>62</td>\n",
       "      <td>JARDIM DA PENHA</td>\n",
       "      <td>0</td>\n",
       "      <td>1</td>\n",
       "      <td>0</td>\n",
       "      <td>0</td>\n",
       "      <td>0</td>\n",
       "      <td>0</td>\n",
       "      <td>No</td>\n",
       "    </tr>\n",
       "    <tr>\n",
       "      <th>1</th>\n",
       "      <td>5.590000e+14</td>\n",
       "      <td>5642503</td>\n",
       "      <td>M</td>\n",
       "      <td>2016-04-29T16:08:27Z</td>\n",
       "      <td>2016-04-29T00:00:00Z</td>\n",
       "      <td>56</td>\n",
       "      <td>JARDIM DA PENHA</td>\n",
       "      <td>0</td>\n",
       "      <td>0</td>\n",
       "      <td>0</td>\n",
       "      <td>0</td>\n",
       "      <td>0</td>\n",
       "      <td>0</td>\n",
       "      <td>No</td>\n",
       "    </tr>\n",
       "    <tr>\n",
       "      <th>2</th>\n",
       "      <td>4.260000e+12</td>\n",
       "      <td>5642549</td>\n",
       "      <td>F</td>\n",
       "      <td>2016-04-29T16:19:04Z</td>\n",
       "      <td>2016-04-29T00:00:00Z</td>\n",
       "      <td>62</td>\n",
       "      <td>MATA DA PRAIA</td>\n",
       "      <td>0</td>\n",
       "      <td>0</td>\n",
       "      <td>0</td>\n",
       "      <td>0</td>\n",
       "      <td>0</td>\n",
       "      <td>0</td>\n",
       "      <td>No</td>\n",
       "    </tr>\n",
       "    <tr>\n",
       "      <th>3</th>\n",
       "      <td>8.680000e+11</td>\n",
       "      <td>5642828</td>\n",
       "      <td>F</td>\n",
       "      <td>2016-04-29T17:29:31Z</td>\n",
       "      <td>2016-04-29T00:00:00Z</td>\n",
       "      <td>8</td>\n",
       "      <td>PONTAL DE CAMBURI</td>\n",
       "      <td>0</td>\n",
       "      <td>0</td>\n",
       "      <td>0</td>\n",
       "      <td>0</td>\n",
       "      <td>0</td>\n",
       "      <td>0</td>\n",
       "      <td>No</td>\n",
       "    </tr>\n",
       "    <tr>\n",
       "      <th>4</th>\n",
       "      <td>8.840000e+12</td>\n",
       "      <td>5642494</td>\n",
       "      <td>F</td>\n",
       "      <td>2016-04-29T16:07:23Z</td>\n",
       "      <td>2016-04-29T00:00:00Z</td>\n",
       "      <td>56</td>\n",
       "      <td>JARDIM DA PENHA</td>\n",
       "      <td>0</td>\n",
       "      <td>1</td>\n",
       "      <td>1</td>\n",
       "      <td>0</td>\n",
       "      <td>0</td>\n",
       "      <td>0</td>\n",
       "      <td>No</td>\n",
       "    </tr>\n",
       "  </tbody>\n",
       "</table>\n",
       "</div>"
      ],
      "text/plain": [
       "      PatientId  AppointmentID Gender          ScheduledDay  \\\n",
       "0  2.990000e+13        5642903      F  2016-04-29T18:38:08Z   \n",
       "1  5.590000e+14        5642503      M  2016-04-29T16:08:27Z   \n",
       "2  4.260000e+12        5642549      F  2016-04-29T16:19:04Z   \n",
       "3  8.680000e+11        5642828      F  2016-04-29T17:29:31Z   \n",
       "4  8.840000e+12        5642494      F  2016-04-29T16:07:23Z   \n",
       "\n",
       "         AppointmentDay  Age      Neighbourhood  Scholarship  Hipertension  \\\n",
       "0  2016-04-29T00:00:00Z   62    JARDIM DA PENHA            0             1   \n",
       "1  2016-04-29T00:00:00Z   56    JARDIM DA PENHA            0             0   \n",
       "2  2016-04-29T00:00:00Z   62      MATA DA PRAIA            0             0   \n",
       "3  2016-04-29T00:00:00Z    8  PONTAL DE CAMBURI            0             0   \n",
       "4  2016-04-29T00:00:00Z   56    JARDIM DA PENHA            0             1   \n",
       "\n",
       "   Diabetes  Alcoholism  Handcap  SMS_received No-show  \n",
       "0         0           0        0             0      No  \n",
       "1         0           0        0             0      No  \n",
       "2         0           0        0             0      No  \n",
       "3         0           0        0             0      No  \n",
       "4         1           0        0             0      No  "
      ]
     },
     "execution_count": 2,
     "metadata": {},
     "output_type": "execute_result"
    }
   ],
   "source": [
    "# Loading the noshowappointments.csv file into a datafrmae \n",
    "df_appoint = pd.read_csv(r'datasets\\noshowappointments.csv')\n",
    "# Displaying the first five rows\n",
    "df_appoint.head()"
   ]
  },
  {
   "cell_type": "markdown",
   "metadata": {},
   "source": [
    "Let's check the summary dimensions of our data and the data types of the variables."
   ]
  },
  {
   "cell_type": "code",
   "execution_count": 3,
   "metadata": {},
   "outputs": [
    {
     "data": {
      "text/plain": [
       "(110527, 14)"
      ]
     },
     "execution_count": 3,
     "metadata": {},
     "output_type": "execute_result"
    }
   ],
   "source": [
    "# Using the shape function to return the dimentsions of the data\n",
    "df_appoint.shape"
   ]
  },
  {
   "cell_type": "markdown",
   "metadata": {},
   "source": [
    "Our data has 110527 data points/rows(**appointments recorded**) and 14 variables/columns"
   ]
  },
  {
   "cell_type": "code",
   "execution_count": 4,
   "metadata": {},
   "outputs": [
    {
     "data": {
      "text/plain": [
       "PatientId         float64\n",
       "AppointmentID       int64\n",
       "Gender             object\n",
       "ScheduledDay       object\n",
       "AppointmentDay     object\n",
       "Age                 int64\n",
       "Neighbourhood      object\n",
       "Scholarship         int64\n",
       "Hipertension        int64\n",
       "Diabetes            int64\n",
       "Alcoholism          int64\n",
       "Handcap             int64\n",
       "SMS_received        int64\n",
       "No-show            object\n",
       "dtype: object"
      ]
     },
     "execution_count": 4,
     "metadata": {},
     "output_type": "execute_result"
    }
   ],
   "source": [
    "# Let's check the data types of oour variables\n",
    "df_appoint.dtypes"
   ]
  },
  {
   "cell_type": "markdown",
   "metadata": {},
   "source": [
    "The **appointment day** and **scheduled day** columns are of type `object` but they represent `datetime`. We will convert this to date time data type as we clean our data."
   ]
  },
  {
   "cell_type": "markdown",
   "metadata": {},
   "source": [
    "Now we should check;\n",
    "1. The summary description of our data and see if we have any missing values \n",
    "2. The summary statistics of our data"
   ]
  },
  {
   "cell_type": "code",
   "execution_count": 5,
   "metadata": {},
   "outputs": [
    {
     "name": "stdout",
     "output_type": "stream",
     "text": [
      "<class 'pandas.core.frame.DataFrame'>\n",
      "RangeIndex: 110527 entries, 0 to 110526\n",
      "Data columns (total 14 columns):\n",
      " #   Column          Non-Null Count   Dtype  \n",
      "---  ------          --------------   -----  \n",
      " 0   PatientId       110527 non-null  float64\n",
      " 1   AppointmentID   110527 non-null  int64  \n",
      " 2   Gender          110527 non-null  object \n",
      " 3   ScheduledDay    110527 non-null  object \n",
      " 4   AppointmentDay  110527 non-null  object \n",
      " 5   Age             110527 non-null  int64  \n",
      " 6   Neighbourhood   110527 non-null  object \n",
      " 7   Scholarship     110527 non-null  int64  \n",
      " 8   Hipertension    110527 non-null  int64  \n",
      " 9   Diabetes        110527 non-null  int64  \n",
      " 10  Alcoholism      110527 non-null  int64  \n",
      " 11  Handcap         110527 non-null  int64  \n",
      " 12  SMS_received    110527 non-null  int64  \n",
      " 13  No-show         110527 non-null  object \n",
      "dtypes: float64(1), int64(8), object(5)\n",
      "memory usage: 11.8+ MB\n"
     ]
    }
   ],
   "source": [
    "# Checking the summary description with the use of the info() function\n",
    "df_appoint.info()"
   ]
  },
  {
   "cell_type": "markdown",
   "metadata": {},
   "source": [
    "Great! Seems like our data does not have any missing values. Each column has 110527 non-null values which matches perfectly with the number of entries we have in our dataset."
   ]
  },
  {
   "cell_type": "code",
   "execution_count": 6,
   "metadata": {},
   "outputs": [
    {
     "data": {
      "text/html": [
       "<div>\n",
       "<style scoped>\n",
       "    .dataframe tbody tr th:only-of-type {\n",
       "        vertical-align: middle;\n",
       "    }\n",
       "\n",
       "    .dataframe tbody tr th {\n",
       "        vertical-align: top;\n",
       "    }\n",
       "\n",
       "    .dataframe thead th {\n",
       "        text-align: right;\n",
       "    }\n",
       "</style>\n",
       "<table border=\"1\" class=\"dataframe\">\n",
       "  <thead>\n",
       "    <tr style=\"text-align: right;\">\n",
       "      <th></th>\n",
       "      <th>PatientId</th>\n",
       "      <th>AppointmentID</th>\n",
       "      <th>Age</th>\n",
       "      <th>Scholarship</th>\n",
       "      <th>Hipertension</th>\n",
       "      <th>Diabetes</th>\n",
       "      <th>Alcoholism</th>\n",
       "      <th>Handcap</th>\n",
       "      <th>SMS_received</th>\n",
       "    </tr>\n",
       "  </thead>\n",
       "  <tbody>\n",
       "    <tr>\n",
       "      <th>count</th>\n",
       "      <td>1.105270e+05</td>\n",
       "      <td>1.105270e+05</td>\n",
       "      <td>110527.000000</td>\n",
       "      <td>110527.000000</td>\n",
       "      <td>110527.000000</td>\n",
       "      <td>110527.000000</td>\n",
       "      <td>110527.000000</td>\n",
       "      <td>110527.000000</td>\n",
       "      <td>110527.000000</td>\n",
       "    </tr>\n",
       "    <tr>\n",
       "      <th>mean</th>\n",
       "      <td>1.474961e+14</td>\n",
       "      <td>5.675305e+06</td>\n",
       "      <td>37.088874</td>\n",
       "      <td>0.098266</td>\n",
       "      <td>0.197246</td>\n",
       "      <td>0.071865</td>\n",
       "      <td>0.030400</td>\n",
       "      <td>0.022248</td>\n",
       "      <td>0.321026</td>\n",
       "    </tr>\n",
       "    <tr>\n",
       "      <th>std</th>\n",
       "      <td>2.560943e+14</td>\n",
       "      <td>7.129575e+04</td>\n",
       "      <td>23.110205</td>\n",
       "      <td>0.297675</td>\n",
       "      <td>0.397921</td>\n",
       "      <td>0.258265</td>\n",
       "      <td>0.171686</td>\n",
       "      <td>0.161543</td>\n",
       "      <td>0.466873</td>\n",
       "    </tr>\n",
       "    <tr>\n",
       "      <th>min</th>\n",
       "      <td>3.920000e+04</td>\n",
       "      <td>5.030230e+06</td>\n",
       "      <td>-1.000000</td>\n",
       "      <td>0.000000</td>\n",
       "      <td>0.000000</td>\n",
       "      <td>0.000000</td>\n",
       "      <td>0.000000</td>\n",
       "      <td>0.000000</td>\n",
       "      <td>0.000000</td>\n",
       "    </tr>\n",
       "    <tr>\n",
       "      <th>25%</th>\n",
       "      <td>4.170000e+12</td>\n",
       "      <td>5.640286e+06</td>\n",
       "      <td>18.000000</td>\n",
       "      <td>0.000000</td>\n",
       "      <td>0.000000</td>\n",
       "      <td>0.000000</td>\n",
       "      <td>0.000000</td>\n",
       "      <td>0.000000</td>\n",
       "      <td>0.000000</td>\n",
       "    </tr>\n",
       "    <tr>\n",
       "      <th>50%</th>\n",
       "      <td>3.170000e+13</td>\n",
       "      <td>5.680573e+06</td>\n",
       "      <td>37.000000</td>\n",
       "      <td>0.000000</td>\n",
       "      <td>0.000000</td>\n",
       "      <td>0.000000</td>\n",
       "      <td>0.000000</td>\n",
       "      <td>0.000000</td>\n",
       "      <td>0.000000</td>\n",
       "    </tr>\n",
       "    <tr>\n",
       "      <th>75%</th>\n",
       "      <td>9.440000e+13</td>\n",
       "      <td>5.725524e+06</td>\n",
       "      <td>55.000000</td>\n",
       "      <td>0.000000</td>\n",
       "      <td>0.000000</td>\n",
       "      <td>0.000000</td>\n",
       "      <td>0.000000</td>\n",
       "      <td>0.000000</td>\n",
       "      <td>1.000000</td>\n",
       "    </tr>\n",
       "    <tr>\n",
       "      <th>max</th>\n",
       "      <td>1.000000e+15</td>\n",
       "      <td>5.790484e+06</td>\n",
       "      <td>115.000000</td>\n",
       "      <td>1.000000</td>\n",
       "      <td>1.000000</td>\n",
       "      <td>1.000000</td>\n",
       "      <td>1.000000</td>\n",
       "      <td>4.000000</td>\n",
       "      <td>1.000000</td>\n",
       "    </tr>\n",
       "  </tbody>\n",
       "</table>\n",
       "</div>"
      ],
      "text/plain": [
       "          PatientId  AppointmentID            Age    Scholarship  \\\n",
       "count  1.105270e+05   1.105270e+05  110527.000000  110527.000000   \n",
       "mean   1.474961e+14   5.675305e+06      37.088874       0.098266   \n",
       "std    2.560943e+14   7.129575e+04      23.110205       0.297675   \n",
       "min    3.920000e+04   5.030230e+06      -1.000000       0.000000   \n",
       "25%    4.170000e+12   5.640286e+06      18.000000       0.000000   \n",
       "50%    3.170000e+13   5.680573e+06      37.000000       0.000000   \n",
       "75%    9.440000e+13   5.725524e+06      55.000000       0.000000   \n",
       "max    1.000000e+15   5.790484e+06     115.000000       1.000000   \n",
       "\n",
       "        Hipertension       Diabetes     Alcoholism        Handcap  \\\n",
       "count  110527.000000  110527.000000  110527.000000  110527.000000   \n",
       "mean        0.197246       0.071865       0.030400       0.022248   \n",
       "std         0.397921       0.258265       0.171686       0.161543   \n",
       "min         0.000000       0.000000       0.000000       0.000000   \n",
       "25%         0.000000       0.000000       0.000000       0.000000   \n",
       "50%         0.000000       0.000000       0.000000       0.000000   \n",
       "75%         0.000000       0.000000       0.000000       0.000000   \n",
       "max         1.000000       1.000000       1.000000       4.000000   \n",
       "\n",
       "        SMS_received  \n",
       "count  110527.000000  \n",
       "mean        0.321026  \n",
       "std         0.466873  \n",
       "min         0.000000  \n",
       "25%         0.000000  \n",
       "50%         0.000000  \n",
       "75%         1.000000  \n",
       "max         1.000000  "
      ]
     },
     "execution_count": 6,
     "metadata": {},
     "output_type": "execute_result"
    }
   ],
   "source": [
    "# Checking the summary statistics using the describe() function\n",
    "df_appoint.describe()"
   ]
  },
  {
   "cell_type": "markdown",
   "metadata": {},
   "source": [
    "1. We will have to convert the **patientid and appointmentid** to object data type as they do not need to be used for summary statistics purposes.\n",
    "2. The columns, **scholarship,Hipertension,Diabetes,Alcoholism,Handcap** seem to be categorical columns. Therefore, the summary statistics for these columns are not necessary.\n",
    "\n",
    "From the **Age** column we can perceive that the minimum and maximum age are a bit off. We will dig deeper as we analyse further."
   ]
  },
  {
   "cell_type": "code",
   "execution_count": 7,
   "metadata": {},
   "outputs": [
    {
     "data": {
      "text/plain": [
       "PatientId           6100\n",
       "AppointmentID     110527\n",
       "Gender                 2\n",
       "ScheduledDay      103549\n",
       "AppointmentDay        27\n",
       "Age                  104\n",
       "Neighbourhood         81\n",
       "Scholarship            2\n",
       "Hipertension           2\n",
       "Diabetes               2\n",
       "Alcoholism             2\n",
       "Handcap                5\n",
       "SMS_received           2\n",
       "No-show                2\n",
       "dtype: int64"
      ]
     },
     "execution_count": 7,
     "metadata": {},
     "output_type": "execute_result"
    }
   ],
   "source": [
    "# Let's look at unique values in each column\n",
    "df_appoint.nunique()"
   ]
  },
  {
   "cell_type": "markdown",
   "metadata": {},
   "source": [
    "- We have 8 categorical columns. The **Gender,Scholarship,Hipertension,Diabetes,Alcoholism,Handcap,SMS_received,No-show** are clearly categorical columns.\n",
    "\n",
    "- The handcap column has 5 distinct values while they should be only 2. We will have to clean that up."
   ]
  },
  {
   "cell_type": "code",
   "execution_count": 8,
   "metadata": {},
   "outputs": [
    {
     "data": {
      "text/plain": [
       "0"
      ]
     },
     "execution_count": 8,
     "metadata": {},
     "output_type": "execute_result"
    }
   ],
   "source": [
    "# checking for duplicated values\n",
    "sum(df_appoint.duplicated())"
   ]
  },
  {
   "cell_type": "markdown",
   "metadata": {},
   "source": [
    "Our data does not have any duplicates. This is great."
   ]
  },
  {
   "cell_type": "markdown",
   "metadata": {},
   "source": [
    "\n",
    "### Data Cleaning"
   ]
  },
  {
   "cell_type": "markdown",
   "metadata": {},
   "source": [
    "We will make our column names lower case for consistency and easy amnipulation of the data."
   ]
  },
  {
   "cell_type": "code",
   "execution_count": 9,
   "metadata": {},
   "outputs": [],
   "source": [
    "# Let's make the headers lower case for consistency and replace the hyphen in 'no-show' column to underscore 'no_show'\n",
    "df_appoint.columns = df_appoint.columns.str.lower().str.replace('-','_')"
   ]
  },
  {
   "cell_type": "code",
   "execution_count": 10,
   "metadata": {},
   "outputs": [
    {
     "data": {
      "text/html": [
       "<div>\n",
       "<style scoped>\n",
       "    .dataframe tbody tr th:only-of-type {\n",
       "        vertical-align: middle;\n",
       "    }\n",
       "\n",
       "    .dataframe tbody tr th {\n",
       "        vertical-align: top;\n",
       "    }\n",
       "\n",
       "    .dataframe thead th {\n",
       "        text-align: right;\n",
       "    }\n",
       "</style>\n",
       "<table border=\"1\" class=\"dataframe\">\n",
       "  <thead>\n",
       "    <tr style=\"text-align: right;\">\n",
       "      <th></th>\n",
       "      <th>patientid</th>\n",
       "      <th>appointmentid</th>\n",
       "      <th>gender</th>\n",
       "      <th>scheduledday</th>\n",
       "      <th>appointmentday</th>\n",
       "      <th>age</th>\n",
       "      <th>neighbourhood</th>\n",
       "      <th>scholarship</th>\n",
       "      <th>hipertension</th>\n",
       "      <th>diabetes</th>\n",
       "      <th>alcoholism</th>\n",
       "      <th>handcap</th>\n",
       "      <th>sms_received</th>\n",
       "      <th>no_show</th>\n",
       "    </tr>\n",
       "  </thead>\n",
       "  <tbody>\n",
       "    <tr>\n",
       "      <th>0</th>\n",
       "      <td>2.990000e+13</td>\n",
       "      <td>5642903</td>\n",
       "      <td>F</td>\n",
       "      <td>2016-04-29T18:38:08Z</td>\n",
       "      <td>2016-04-29T00:00:00Z</td>\n",
       "      <td>62</td>\n",
       "      <td>JARDIM DA PENHA</td>\n",
       "      <td>0</td>\n",
       "      <td>1</td>\n",
       "      <td>0</td>\n",
       "      <td>0</td>\n",
       "      <td>0</td>\n",
       "      <td>0</td>\n",
       "      <td>No</td>\n",
       "    </tr>\n",
       "    <tr>\n",
       "      <th>1</th>\n",
       "      <td>5.590000e+14</td>\n",
       "      <td>5642503</td>\n",
       "      <td>M</td>\n",
       "      <td>2016-04-29T16:08:27Z</td>\n",
       "      <td>2016-04-29T00:00:00Z</td>\n",
       "      <td>56</td>\n",
       "      <td>JARDIM DA PENHA</td>\n",
       "      <td>0</td>\n",
       "      <td>0</td>\n",
       "      <td>0</td>\n",
       "      <td>0</td>\n",
       "      <td>0</td>\n",
       "      <td>0</td>\n",
       "      <td>No</td>\n",
       "    </tr>\n",
       "    <tr>\n",
       "      <th>2</th>\n",
       "      <td>4.260000e+12</td>\n",
       "      <td>5642549</td>\n",
       "      <td>F</td>\n",
       "      <td>2016-04-29T16:19:04Z</td>\n",
       "      <td>2016-04-29T00:00:00Z</td>\n",
       "      <td>62</td>\n",
       "      <td>MATA DA PRAIA</td>\n",
       "      <td>0</td>\n",
       "      <td>0</td>\n",
       "      <td>0</td>\n",
       "      <td>0</td>\n",
       "      <td>0</td>\n",
       "      <td>0</td>\n",
       "      <td>No</td>\n",
       "    </tr>\n",
       "    <tr>\n",
       "      <th>3</th>\n",
       "      <td>8.680000e+11</td>\n",
       "      <td>5642828</td>\n",
       "      <td>F</td>\n",
       "      <td>2016-04-29T17:29:31Z</td>\n",
       "      <td>2016-04-29T00:00:00Z</td>\n",
       "      <td>8</td>\n",
       "      <td>PONTAL DE CAMBURI</td>\n",
       "      <td>0</td>\n",
       "      <td>0</td>\n",
       "      <td>0</td>\n",
       "      <td>0</td>\n",
       "      <td>0</td>\n",
       "      <td>0</td>\n",
       "      <td>No</td>\n",
       "    </tr>\n",
       "    <tr>\n",
       "      <th>4</th>\n",
       "      <td>8.840000e+12</td>\n",
       "      <td>5642494</td>\n",
       "      <td>F</td>\n",
       "      <td>2016-04-29T16:07:23Z</td>\n",
       "      <td>2016-04-29T00:00:00Z</td>\n",
       "      <td>56</td>\n",
       "      <td>JARDIM DA PENHA</td>\n",
       "      <td>0</td>\n",
       "      <td>1</td>\n",
       "      <td>1</td>\n",
       "      <td>0</td>\n",
       "      <td>0</td>\n",
       "      <td>0</td>\n",
       "      <td>No</td>\n",
       "    </tr>\n",
       "  </tbody>\n",
       "</table>\n",
       "</div>"
      ],
      "text/plain": [
       "      patientid  appointmentid gender          scheduledday  \\\n",
       "0  2.990000e+13        5642903      F  2016-04-29T18:38:08Z   \n",
       "1  5.590000e+14        5642503      M  2016-04-29T16:08:27Z   \n",
       "2  4.260000e+12        5642549      F  2016-04-29T16:19:04Z   \n",
       "3  8.680000e+11        5642828      F  2016-04-29T17:29:31Z   \n",
       "4  8.840000e+12        5642494      F  2016-04-29T16:07:23Z   \n",
       "\n",
       "         appointmentday  age      neighbourhood  scholarship  hipertension  \\\n",
       "0  2016-04-29T00:00:00Z   62    JARDIM DA PENHA            0             1   \n",
       "1  2016-04-29T00:00:00Z   56    JARDIM DA PENHA            0             0   \n",
       "2  2016-04-29T00:00:00Z   62      MATA DA PRAIA            0             0   \n",
       "3  2016-04-29T00:00:00Z    8  PONTAL DE CAMBURI            0             0   \n",
       "4  2016-04-29T00:00:00Z   56    JARDIM DA PENHA            0             1   \n",
       "\n",
       "   diabetes  alcoholism  handcap  sms_received no_show  \n",
       "0         0           0        0             0      No  \n",
       "1         0           0        0             0      No  \n",
       "2         0           0        0             0      No  \n",
       "3         0           0        0             0      No  \n",
       "4         1           0        0             0      No  "
      ]
     },
     "execution_count": 10,
     "metadata": {},
     "output_type": "execute_result"
    }
   ],
   "source": [
    "# Checking that the columns are in lower case\n",
    "df_appoint.head() "
   ]
  },
  {
   "cell_type": "markdown",
   "metadata": {},
   "source": [
    "Renaming the 'hipertension' column using correct spelling 'hypertension'"
   ]
  },
  {
   "cell_type": "code",
   "execution_count": 11,
   "metadata": {},
   "outputs": [
    {
     "data": {
      "text/html": [
       "<div>\n",
       "<style scoped>\n",
       "    .dataframe tbody tr th:only-of-type {\n",
       "        vertical-align: middle;\n",
       "    }\n",
       "\n",
       "    .dataframe tbody tr th {\n",
       "        vertical-align: top;\n",
       "    }\n",
       "\n",
       "    .dataframe thead th {\n",
       "        text-align: right;\n",
       "    }\n",
       "</style>\n",
       "<table border=\"1\" class=\"dataframe\">\n",
       "  <thead>\n",
       "    <tr style=\"text-align: right;\">\n",
       "      <th></th>\n",
       "      <th>patientid</th>\n",
       "      <th>appointmentid</th>\n",
       "      <th>gender</th>\n",
       "      <th>scheduledday</th>\n",
       "      <th>appointmentday</th>\n",
       "      <th>age</th>\n",
       "      <th>neighbourhood</th>\n",
       "      <th>scholarship</th>\n",
       "      <th>hypertension</th>\n",
       "      <th>diabetes</th>\n",
       "      <th>alcoholism</th>\n",
       "      <th>handcap</th>\n",
       "      <th>sms_received</th>\n",
       "      <th>no_show</th>\n",
       "    </tr>\n",
       "  </thead>\n",
       "  <tbody>\n",
       "    <tr>\n",
       "      <th>0</th>\n",
       "      <td>2.990000e+13</td>\n",
       "      <td>5642903</td>\n",
       "      <td>F</td>\n",
       "      <td>2016-04-29T18:38:08Z</td>\n",
       "      <td>2016-04-29T00:00:00Z</td>\n",
       "      <td>62</td>\n",
       "      <td>JARDIM DA PENHA</td>\n",
       "      <td>0</td>\n",
       "      <td>1</td>\n",
       "      <td>0</td>\n",
       "      <td>0</td>\n",
       "      <td>0</td>\n",
       "      <td>0</td>\n",
       "      <td>No</td>\n",
       "    </tr>\n",
       "    <tr>\n",
       "      <th>1</th>\n",
       "      <td>5.590000e+14</td>\n",
       "      <td>5642503</td>\n",
       "      <td>M</td>\n",
       "      <td>2016-04-29T16:08:27Z</td>\n",
       "      <td>2016-04-29T00:00:00Z</td>\n",
       "      <td>56</td>\n",
       "      <td>JARDIM DA PENHA</td>\n",
       "      <td>0</td>\n",
       "      <td>0</td>\n",
       "      <td>0</td>\n",
       "      <td>0</td>\n",
       "      <td>0</td>\n",
       "      <td>0</td>\n",
       "      <td>No</td>\n",
       "    </tr>\n",
       "    <tr>\n",
       "      <th>2</th>\n",
       "      <td>4.260000e+12</td>\n",
       "      <td>5642549</td>\n",
       "      <td>F</td>\n",
       "      <td>2016-04-29T16:19:04Z</td>\n",
       "      <td>2016-04-29T00:00:00Z</td>\n",
       "      <td>62</td>\n",
       "      <td>MATA DA PRAIA</td>\n",
       "      <td>0</td>\n",
       "      <td>0</td>\n",
       "      <td>0</td>\n",
       "      <td>0</td>\n",
       "      <td>0</td>\n",
       "      <td>0</td>\n",
       "      <td>No</td>\n",
       "    </tr>\n",
       "    <tr>\n",
       "      <th>3</th>\n",
       "      <td>8.680000e+11</td>\n",
       "      <td>5642828</td>\n",
       "      <td>F</td>\n",
       "      <td>2016-04-29T17:29:31Z</td>\n",
       "      <td>2016-04-29T00:00:00Z</td>\n",
       "      <td>8</td>\n",
       "      <td>PONTAL DE CAMBURI</td>\n",
       "      <td>0</td>\n",
       "      <td>0</td>\n",
       "      <td>0</td>\n",
       "      <td>0</td>\n",
       "      <td>0</td>\n",
       "      <td>0</td>\n",
       "      <td>No</td>\n",
       "    </tr>\n",
       "    <tr>\n",
       "      <th>4</th>\n",
       "      <td>8.840000e+12</td>\n",
       "      <td>5642494</td>\n",
       "      <td>F</td>\n",
       "      <td>2016-04-29T16:07:23Z</td>\n",
       "      <td>2016-04-29T00:00:00Z</td>\n",
       "      <td>56</td>\n",
       "      <td>JARDIM DA PENHA</td>\n",
       "      <td>0</td>\n",
       "      <td>1</td>\n",
       "      <td>1</td>\n",
       "      <td>0</td>\n",
       "      <td>0</td>\n",
       "      <td>0</td>\n",
       "      <td>No</td>\n",
       "    </tr>\n",
       "  </tbody>\n",
       "</table>\n",
       "</div>"
      ],
      "text/plain": [
       "      patientid  appointmentid gender          scheduledday  \\\n",
       "0  2.990000e+13        5642903      F  2016-04-29T18:38:08Z   \n",
       "1  5.590000e+14        5642503      M  2016-04-29T16:08:27Z   \n",
       "2  4.260000e+12        5642549      F  2016-04-29T16:19:04Z   \n",
       "3  8.680000e+11        5642828      F  2016-04-29T17:29:31Z   \n",
       "4  8.840000e+12        5642494      F  2016-04-29T16:07:23Z   \n",
       "\n",
       "         appointmentday  age      neighbourhood  scholarship  hypertension  \\\n",
       "0  2016-04-29T00:00:00Z   62    JARDIM DA PENHA            0             1   \n",
       "1  2016-04-29T00:00:00Z   56    JARDIM DA PENHA            0             0   \n",
       "2  2016-04-29T00:00:00Z   62      MATA DA PRAIA            0             0   \n",
       "3  2016-04-29T00:00:00Z    8  PONTAL DE CAMBURI            0             0   \n",
       "4  2016-04-29T00:00:00Z   56    JARDIM DA PENHA            0             1   \n",
       "\n",
       "   diabetes  alcoholism  handcap  sms_received no_show  \n",
       "0         0           0        0             0      No  \n",
       "1         0           0        0             0      No  \n",
       "2         0           0        0             0      No  \n",
       "3         0           0        0             0      No  \n",
       "4         1           0        0             0      No  "
      ]
     },
     "execution_count": 11,
     "metadata": {},
     "output_type": "execute_result"
    }
   ],
   "source": [
    "# Let's rename the 'hipertension' column to \"hypertension\"\n",
    "df_appoint = df_appoint.rename(columns = {'hipertension':'hypertension'})\n",
    "# checkin rename has occurred\n",
    "df_appoint.head()"
   ]
  },
  {
   "cell_type": "markdown",
   "metadata": {},
   "source": [
    "We've made our columns more consistent for use by lowering the case, changing the column **hipertension** to **hypertension** so it may utilize proper grammar, and using an underscore instead of a hyphen to separate the two terms in the **no show** column."
   ]
  },
  {
   "cell_type": "code",
   "execution_count": 12,
   "metadata": {},
   "outputs": [
    {
     "data": {
      "text/plain": [
       "patientid                     float64\n",
       "appointmentid                   int64\n",
       "gender                         object\n",
       "scheduledday      datetime64[ns, UTC]\n",
       "appointmentday    datetime64[ns, UTC]\n",
       "age                             int64\n",
       "neighbourhood                  object\n",
       "scholarship                     int64\n",
       "hypertension                    int64\n",
       "diabetes                        int64\n",
       "alcoholism                      int64\n",
       "handcap                         int64\n",
       "sms_received                    int64\n",
       "no_show                        object\n",
       "dtype: object"
      ]
     },
     "execution_count": 12,
     "metadata": {},
     "output_type": "execute_result"
    }
   ],
   "source": [
    "# Lets convert the schedule day and appointment day column to date time  data type\n",
    "df_appoint['scheduledday']= pd.to_datetime(df_appoint['scheduledday'])\n",
    "df_appoint['appointmentday']= pd.to_datetime(df_appoint['appointmentday'])\n",
    "# Lets check if data type has been updated\n",
    "df_appoint.dtypes"
   ]
  },
  {
   "cell_type": "markdown",
   "metadata": {},
   "source": [
    "The **scheduledday** and **appointmentday** are now of datetime data type."
   ]
  },
  {
   "cell_type": "code",
   "execution_count": 13,
   "metadata": {},
   "outputs": [
    {
     "data": {
      "text/plain": [
       "Index(['appointmentid', 'gender', 'scheduledday', 'appointmentday', 'age',\n",
       "       'neighbourhood', 'scholarship', 'hypertension', 'diabetes',\n",
       "       'alcoholism', 'handcap', 'sms_received', 'no_show'],\n",
       "      dtype='object')"
      ]
     },
     "execution_count": 13,
     "metadata": {},
     "output_type": "execute_result"
    }
   ],
   "source": [
    "# Lets drop the patient id column as we will not require it in our Exploratory analysis\n",
    "# We will create a new data frame variable instead which does not include the patient id.\n",
    "\n",
    "df_new_appoint = df_appoint.drop(['patientid'],axis=1)\n",
    "\n",
    "# Lets check the new data frame\n",
    "df_new_appoint.columns"
   ]
  },
  {
   "cell_type": "code",
   "execution_count": 14,
   "metadata": {},
   "outputs": [],
   "source": [
    "# Lets clean up the handcap column by replacing the 2,3,4,5 values with 1.\n",
    "# using numpy to replace values\n",
    "condition = df_new_appoint['handcap']>=1\n",
    "\n",
    "df_new_appoint['handcap']=np.where(condition,1,0)"
   ]
  },
  {
   "cell_type": "code",
   "execution_count": 15,
   "metadata": {},
   "outputs": [
    {
     "data": {
      "text/plain": [
       "0    108286\n",
       "1      2241\n",
       "Name: handcap, dtype: int64"
      ]
     },
     "execution_count": 15,
     "metadata": {},
     "output_type": "execute_result"
    }
   ],
   "source": [
    "# checking the values have been augmented\n",
    "df_new_appoint.handcap.value_counts()"
   ]
  },
  {
   "cell_type": "markdown",
   "metadata": {},
   "source": [
    "#### Let us explore the variables individually and check the distribution of each."
   ]
  },
  {
   "cell_type": "code",
   "execution_count": 16,
   "metadata": {},
   "outputs": [
    {
     "data": {
      "image/png": "[encoded data removed]",
      "text/plain": [
       "<Figure size 720x504 with 1 Axes>"
      ]
     },
     "metadata": {},
     "output_type": "display_data"
    }
   ],
   "source": [
    "# Let's check the percentage of male to female gender\n",
    "\n",
    "# Plotting a pie chart\n",
    "labels = df_new_appoint['gender'].unique()\n",
    "gender = df_new_appoint['gender'].value_counts()\n",
    "# adding color\n",
    "colors = ['#a94064','#003366']\n",
    "\n",
    "fig = plt.figure(figsize=(10,7))\n",
    "plt.pie(gender,labels=labels,autopct='%1.1f%%',colors=colors)\n",
    "plt.title('Percentage by gender of individuals')\n",
    "\n",
    "# display plot\n",
    "plt.show()"
   ]
  },
  {
   "cell_type": "markdown",
   "metadata": {},
   "source": [
    "* 65% of our data are female patient appointments.\n",
    "* 35% of our data represents the male patients.\n",
    "* We have 35% more female patient appointments than male patients."
   ]
  },
  {
   "cell_type": "code",
   "execution_count": 17,
   "metadata": {},
   "outputs": [
    {
     "data": {
      "image/png": "[encoded data removed]",
      "text/plain": [
       "<Figure size 432x288 with 1 Axes>"
      ]
     },
     "metadata": {
      "needs_background": "light"
     },
     "output_type": "display_data"
    }
   ],
   "source": [
    "# Let's check the scholarship distribution\n",
    "scholarship = df_new_appoint.scholarship.value_counts()\n",
    "labels = ['0','1']\n",
    "colors=['#003366','#0073cf']\n",
    "# Let's plot a bar chart to compare\n",
    "fig = plt.figure()\n",
    "plt.grid(color='gray', linewidth=1, axis='y', alpha=0.5)\n",
    "plt.bar(labels,scholarship,align='center',color=colors)\n",
    "plt.xlabel(\"Scholarship status\")\n",
    "plt.ylabel(\"No. of patients\")\n",
    "plt.title(\"No. of people with scholarships and without\")\n",
    "plt.show()"
   ]
  },
  {
   "cell_type": "markdown",
   "metadata": {},
   "source": [
    "* Close to 100,000 patients have not enrolled for the Brasilian welfare program Bolsa Família.\n",
    "* About 10,000 patients have enrolled for the welfare program."
   ]
  },
  {
   "cell_type": "code",
   "execution_count": 18,
   "metadata": {},
   "outputs": [
    {
     "data": {
      "image/png": "[encoded data removed]",
      "text/plain": [
       "<Figure size 432x288 with 1 Axes>"
      ]
     },
     "metadata": {
      "needs_background": "light"
     },
     "output_type": "display_data"
    }
   ],
   "source": [
    "# Lets evaluate the number of patients with hypertension\n",
    "hypertension = df_new_appoint.hypertension.value_counts()\n",
    "labels = ['0','1']\n",
    "colors=['#003366','#0073cf']\n",
    "# Let's plot a bar chart to compare\n",
    "fig = plt.figure()\n",
    "plt.grid(color='gray', linewidth=1, axis='y', alpha=0.5)\n",
    "plt.bar(labels,hypertension,align='center',color=colors)\n",
    "plt.xlabel(\"hypertension status\")\n",
    "plt.ylabel(\"No. of patients\")\n",
    "plt.title(\"No. of people with hypertension and without\")\n",
    "plt.show()"
   ]
  },
  {
   "cell_type": "markdown",
   "metadata": {},
   "source": [
    "* Close to 90,000 patients do not have hypertension.\n",
    "* Slightly more than 20,000 patients have hypertension."
   ]
  },
  {
   "cell_type": "code",
   "execution_count": 19,
   "metadata": {},
   "outputs": [
    {
     "data": {
      "image/png": "[encoded data removed]",
      "text/plain": [
       "<Figure size 432x288 with 1 Axes>"
      ]
     },
     "metadata": {
      "needs_background": "light"
     },
     "output_type": "display_data"
    }
   ],
   "source": [
    "# # Lets evaluate the number of patients with diabetes\n",
    "diabetes = df_new_appoint.diabetes.value_counts()\n",
    "labels = ['0','1']\n",
    "colors=['#003366','#0073cf']\n",
    "# Let's plot a bar chart to compare\n",
    "fig = plt.figure()\n",
    "plt.grid(color='gray', linewidth=1, axis='y', alpha=0.5)\n",
    "plt.bar(labels,diabetes,align='center',color=colors)\n",
    "plt.xlabel(\"diabetes status\")\n",
    "plt.ylabel(\"No. of patients\")\n",
    "plt.title(\"No. of people with diabetes and without\")\n",
    "plt.show()"
   ]
  },
  {
   "cell_type": "markdown",
   "metadata": {},
   "source": [
    "* Slightly more than 100,000 patients do not have diabetes.\n",
    "* Less than 10,000 patients have diabetes."
   ]
  },
  {
   "cell_type": "code",
   "execution_count": 20,
   "metadata": {},
   "outputs": [
    {
     "data": {
      "image/png": "[encoded data removed]",
      "text/plain": [
       "<Figure size 432x288 with 1 Axes>"
      ]
     },
     "metadata": {
      "needs_background": "light"
     },
     "output_type": "display_data"
    }
   ],
   "source": [
    "# # Lets evaluate the number of patients with alcoholism\n",
    "alcoholism = df_new_appoint.alcoholism.value_counts()\n",
    "labels = ['0','1']\n",
    "colors=['#003366','#0073cf']\n",
    "# Let's plot a bar chart to compare\n",
    "fig = plt.figure()\n",
    "plt.grid(color='gray', linewidth=1, axis='y', alpha=0.5)\n",
    "plt.bar(labels,alcoholism,align='center',color=colors)\n",
    "plt.xlabel(\"alcoholism status\")\n",
    "plt.ylabel(\"No. of patients\")\n",
    "plt.title(\"No. of people with alcoholism and without\")\n",
    "plt.show()"
   ]
  },
  {
   "cell_type": "markdown",
   "metadata": {},
   "source": [
    "* Slightly more than 100,000 patients do not have alcoholism.\n",
    "* Less than 10,000 patients have alcoholism."
   ]
  },
  {
   "cell_type": "code",
   "execution_count": 21,
   "metadata": {},
   "outputs": [
    {
     "data": {
      "image/png": "[encoded data removed]",
      "text/plain": [
       "<Figure size 432x288 with 1 Axes>"
      ]
     },
     "metadata": {
      "needs_background": "light"
     },
     "output_type": "display_data"
    }
   ],
   "source": [
    "# # Lets evaluate the number of patients who are handcap\n",
    "handcap = df_new_appoint.handcap.value_counts()\n",
    "labels = ['0','1']\n",
    "colors=['#003366','#0073cf']\n",
    "# Let's plot a bar chart to compare\n",
    "fig = plt.figure()\n",
    "plt.grid(color='gray', linewidth=1, axis='y', alpha=0.5)\n",
    "plt.bar(labels,handcap,align='center',color=colors)\n",
    "plt.xlabel(\"handcap status\")\n",
    "plt.ylabel(\"No. of patients\")\n",
    "plt.title(\"No. of people who are handcap and those who are not\")\n",
    "plt.show()"
   ]
  },
  {
   "cell_type": "markdown",
   "metadata": {},
   "source": [
    "* Over 100,000 patients are not handcapped.\n",
    "* Very few patients are handcapped."
   ]
  },
  {
   "cell_type": "code",
   "execution_count": 25,
   "metadata": {},
   "outputs": [
    {
     "data": {
      "text/plain": [
       "Text(0, 0.5, 'No. of patients')"
      ]
     },
     "execution_count": 25,
     "metadata": {},
     "output_type": "execute_result"
    },
    {
     "data": {
      "image/png": "[encoded data removed]",
      "text/plain": [
       "<Figure size 432x288 with 1 Axes>"
      ]
     },
     "metadata": {
      "needs_background": "light"
     },
     "output_type": "display_data"
    }
   ],
   "source": [
    "# Lets check the age distribution of the patients\n",
    "age = df_new_appoint.age\n",
    "# plotting a histogram\n",
    "fig, axs = plt.subplots()\n",
    "\n",
    "axs.hist(age, bins=10)\n",
    "plt.title('Age distribution of patients')\n",
    "plt.xlabel('Age in bins of 10')\n",
    "plt.ylabel('No. of patients')"
   ]
  },
  {
   "cell_type": "markdown",
   "metadata": {},
   "source": [
    "- Seems like most patients are 70 yrs and below.\n",
    "- Seems like we have an outlier where we have age below 1 and above 100."
   ]
  },
  {
   "cell_type": "code",
   "execution_count": 41,
   "metadata": {},
   "outputs": [
    {
     "data": {
      "text/plain": [
       "[Text(0, 0.5, 'Patients'),\n",
       " Text(0.5, 1.0, 'Boxplot showing outliers in age column')]"
      ]
     },
     "execution_count": 41,
     "metadata": {},
     "output_type": "execute_result"
    },
    {
     "data": {
      "image/png": "[encoded data removed]",
      "text/plain": [
       "<Figure size 432x288 with 1 Axes>"
      ]
     },
     "metadata": {
      "needs_background": "light"
     },
     "output_type": "display_data"
    }
   ],
   "source": [
    "# Lets check for outliers in the age column\n",
    "\n",
    "sns.boxplot(x=df_new_appoint['age']).set(ylabel='Patients',title='Boxplot showing outliers in age column')"
   ]
  },
  {
   "cell_type": "markdown",
   "metadata": {},
   "source": [
    "We can clearly see we have one outlier. We won't drop it as it may be important for our analysis."
   ]
  },
  {
   "cell_type": "markdown",
   "metadata": {},
   "source": [
    "<a id='eda'></a>\n",
    "## Exploratory Data Analysis\n",
    "\n",
    "As we go through the EDA please remember, that for the No_show column, \n",
    "‘No’- 0 if the patient showed up to their appointment, and ‘Yes’- 1 if they did not show up.\n",
    "\n",
    "### What is the gender ratio of patients who showed up for their appointment vs those who did not?"
   ]
  },
  {
   "cell_type": "code",
   "execution_count": 27,
   "metadata": {},
   "outputs": [
    {
     "data": {
      "image/png": "[encoded data removed]",
      "text/plain": [
       "<Figure size 720x504 with 1 Axes>"
      ]
     },
     "metadata": {},
     "output_type": "display_data"
    }
   ],
   "source": [
    "# gender percentage of patients who showed up for their appointment\n",
    "gender_show_up = df_new_appoint[df_new_appoint['no_show']=='No'].gender.value_counts(normalize=True)\n",
    "# plotting a pie chart\n",
    "# adding color\n",
    "colors = ['#a94064','#003366']\n",
    "labels = df_new_appoint['gender'].unique()\n",
    "\n",
    "fig = plt.figure(figsize=(10,7))\n",
    "plt.pie(gender_show_up,labels=labels,autopct='%1.1f%%',colors=colors)\n",
    "plt.title('Percentage by gender of patients who showed up for their appointment')\n",
    "\n",
    "# display plot\n",
    "plt.show()"
   ]
  },
  {
   "cell_type": "markdown",
   "metadata": {},
   "source": [
    "- 64.9% of female patients showed up for their appointment.\n",
    "- 35.1% of male patients showed up for their appointment.\n",
    "- Seems like female patients keep their appointments more than the male gender. However it is important to note that our dataset has more female patients than male patients. \n",
    "- We should check the rate of male patients who showed up against those who did not. For female patients as well."
   ]
  },
  {
   "cell_type": "code",
   "execution_count": 28,
   "metadata": {},
   "outputs": [
    {
     "data": {
      "image/png": "[encoded data removed]",
      "text/plain": [
       "<Figure size 720x504 with 1 Axes>"
      ]
     },
     "metadata": {},
     "output_type": "display_data"
    }
   ],
   "source": [
    "# Lets check gender percentage of patients who did not show up for their appointment\n",
    "gender_no_show_up = df_new_appoint[df_new_appoint['no_show']=='Yes'].gender.value_counts(normalize=True)\n",
    "# plotting a pie chart\n",
    "# adding color\n",
    "colors = ['#a94064','#003366']\n",
    "labels = df_new_appoint['gender'].unique()\n",
    "\n",
    "fig = plt.figure(figsize=(10,7))\n",
    "plt.pie(gender_no_show_up,labels=labels,autopct='%1.1f%%',colors=colors)\n",
    "plt.title('Percentage by gender of patients who did not show up for their appointment')\n",
    "\n",
    "# display plot\n",
    "plt.show()"
   ]
  },
  {
   "cell_type": "markdown",
   "metadata": {},
   "source": [
    "- 65.4% of female patients did not show up for their appointment.\n",
    "- 34.6% of male patients did not show up for their appointments.\n",
    "- More female patients are missing appointments than the male patients."
   ]
  },
  {
   "cell_type": "code",
   "execution_count": 29,
   "metadata": {},
   "outputs": [
    {
     "data": {
      "image/png": "[encoded data removed]",
      "text/plain": [
       "<Figure size 432x288 with 1 Axes>"
      ]
     },
     "metadata": {
      "needs_background": "light"
     },
     "output_type": "display_data"
    }
   ],
   "source": [
    "# Lets evaluate the male patients and observe how many male patients show up vs those who do not\n",
    "male_gender = df_new_appoint[df_new_appoint['gender']=='M'].no_show.value_counts()\n",
    "labels = ['No','Yes']\n",
    "colors=['#0f52ba','#99badd']\n",
    "# Let's plot a bar chart to compare\n",
    "fig = plt.figure()\n",
    "plt.grid(color='gray', linewidth=1, axis='y', alpha=0.5)\n",
    "plt.bar(labels,male_gender,align='center',color=colors)\n",
    "plt.xlabel(\"appointment status\")\n",
    "plt.ylabel(\"No. of male patients\")\n",
    "plt.title(\"Comparing the appointment status of male patients\")\n",
    "plt.show()"
   ]
  },
  {
   "cell_type": "markdown",
   "metadata": {},
   "source": [
    "- Slightly more than 30,000 male patients have showed up for their appointment.\n",
    "- About 7500 male patients did not show up for their appointment."
   ]
  },
  {
   "cell_type": "code",
   "execution_count": 30,
   "metadata": {},
   "outputs": [
    {
     "data": {
      "image/png": "[encoded data removed]",
      "text/plain": [
       "<Figure size 432x288 with 1 Axes>"
      ]
     },
     "metadata": {
      "needs_background": "light"
     },
     "output_type": "display_data"
    }
   ],
   "source": [
    "# Lets evaluate the female patients and observe how many male patients show up vs those who do not\n",
    "female_gender = df_new_appoint[df_new_appoint['gender']=='F'].no_show.value_counts()\n",
    "labels = ['No','Yes']\n",
    "colors=['#0f52ba','#99badd']\n",
    "# Let's plot a bar chart to compare\n",
    "fig = plt.figure()\n",
    "plt.grid(color='gray', linewidth=1, axis='y', alpha=0.5)\n",
    "plt.bar(labels,female_gender,align='center',color=colors)\n",
    "plt.xlabel(\"appointment status\")\n",
    "plt.ylabel(\"No. of female patients\")\n",
    "plt.title(\"Comparing the appointment status of female patients\")\n",
    "plt.show()"
   ]
  },
  {
   "cell_type": "markdown",
   "metadata": {},
   "source": [
    "- About 55,000 female patients showed up for their appointment.\n",
    "- Close to 15,000 female patients did not show up."
   ]
  },
  {
   "cell_type": "markdown",
   "metadata": {},
   "source": [
    "**We can see that more female patients than male patients are not showing up for their appointments.**"
   ]
  },
  {
   "cell_type": "markdown",
   "metadata": {},
   "source": [
    "### What is the proportion of patients that showed up for their appointment and received an SMS?"
   ]
  },
  {
   "cell_type": "code",
   "execution_count": 42,
   "metadata": {},
   "outputs": [
    {
     "data": {
      "text/plain": [
       "<AxesSubplot:title={'center':'Comparing receiving an SMS to showing up for appointment'}, xlabel='no_show,sms_received', ylabel='No. of appointments'>"
      ]
     },
     "execution_count": 42,
     "metadata": {},
     "output_type": "execute_result"
    },
    {
     "data": {
      "image/png": "[encoded data removed]",
      "text/plain": [
       "<Figure size 432x288 with 1 Axes>"
      ]
     },
     "metadata": {
      "needs_background": "light"
     },
     "output_type": "display_data"
    }
   ],
   "source": [
    "# Lets evaluate the proportion of patients that receive an SMS and the relationship with showing up for an appointment\n",
    "sms_show_up = df_new_appoint.groupby('no_show')['sms_received'].value_counts()\n",
    "sms_show_up.plot(kind='bar',title='Comparing receiving an SMS to showing up for appointment',ylabel='No. of appointments')"
   ]
  },
  {
   "cell_type": "markdown",
   "metadata": {},
   "source": [
    "- Majority of the patients who did not receive an SMS showed up for their appointment."
   ]
  },
  {
   "cell_type": "markdown",
   "metadata": {},
   "source": [
    "### Which hospital location had majority show-up appointments and which one had the least show-up?"
   ]
  },
  {
   "cell_type": "code",
   "execution_count": 36,
   "metadata": {},
   "outputs": [
    {
     "data": {
      "text/plain": [
       "<AxesSubplot:title={'center':'Comparing top 5 neigbourhood hospital locations'}, xlabel='Hospital locations', ylabel='No. of patients who showed up'>"
      ]
     },
     "execution_count": 36,
     "metadata": {},
     "output_type": "execute_result"
    },
    {
     "data": {
      "image/png": "[encoded data removed]",
      "text/plain": [
       "<Figure size 432x288 with 1 Axes>"
      ]
     },
     "metadata": {
      "needs_background": "light"
     },
     "output_type": "display_data"
    }
   ],
   "source": [
    "# Lets check the top 5 locations with the highest show up rate\n",
    "location_show_up = df_new_appoint[df_new_appoint['no_show']=='No'].neighbourhood.value_counts().sort_values(ascending=False).iloc[:5]\n",
    "\n",
    "# plotting a bar chart\n",
    "location_show_up.plot(kind='bar',title='Comparing top 5 neigbourhood hospital locations',ylabel='No. of patients who showed up',xlabel='Hospital locations')"
   ]
  },
  {
   "cell_type": "markdown",
   "metadata": {},
   "source": [
    "**JARDIM,MARIA,RESISTENCIA,JARDIM,SANTA** are the top 5 locations that most patients show up for appointments."
   ]
  },
  {
   "cell_type": "code",
   "execution_count": 37,
   "metadata": {},
   "outputs": [
    {
     "data": {
      "text/plain": [
       "<AxesSubplot:title={'center':'Comparing least 5 neigbourhood hospital locations'}, xlabel='Hospital locations', ylabel='No. of patients who showed up'>"
      ]
     },
     "execution_count": 37,
     "metadata": {},
     "output_type": "execute_result"
    },
    {
     "data": {
      "image/png": "[encoded data removed]",
      "text/plain": [
       "<Figure size 432x288 with 1 Axes>"
      ]
     },
     "metadata": {
      "needs_background": "light"
     },
     "output_type": "display_data"
    }
   ],
   "source": [
    "# Lets check the top 5 locations with the least show up rate\n",
    "location_show_up = df_new_appoint[df_new_appoint['no_show']=='No'].neighbourhood.value_counts().sort_values(ascending=True).iloc[:5]\n",
    "\n",
    "# plotting a bar chart\n",
    "location_show_up.plot(kind='bar',title='Comparing least 5 neigbourhood hospital locations',ylabel='No. of patients who showed up',xlabel='Hospital locations')"
   ]
  },
  {
   "cell_type": "markdown",
   "metadata": {},
   "source": [
    "**PARQUE,AEROPORTO,ILHA DO FRADE,ILHA DO BOI,PONTAL** are the locations that have the least show up by patients."
   ]
  },
  {
   "cell_type": "markdown",
   "metadata": {},
   "source": [
    "### Does having a scholarship affect whether or not a patient shows up for their appointment?"
   ]
  },
  {
   "cell_type": "code",
   "execution_count": 272,
   "metadata": {},
   "outputs": [
    {
     "data": {
      "image/png": "[encoded data removed]",
      "text/plain": [
       "<Figure size 720x504 with 1 Axes>"
      ]
     },
     "metadata": {},
     "output_type": "display_data"
    }
   ],
   "source": [
    "# checking if having a scholarship affects show up for appointments\n",
    "scholarship_show_up = df_new_appoint[df_new_appoint['no_show']=='No'].scholarship.value_counts()\n",
    "# plot a pie chart\n",
    "# plotting a pie chart\n",
    "# adding color\n",
    "colors = ['#99badd','#003366']\n",
    "labels = df_new_appoint['scholarship'].unique()\n",
    "\n",
    "fig = plt.figure(figsize=(10,7))\n",
    "plt.pie(scholarship_show_up,labels=labels,autopct='%1.1f%%',colors=colors)\n",
    "plt.title('Relationship between percentage of patients with scholarship and the show up rate')\n",
    "\n",
    "# display plot\n",
    "plt.show()"
   ]
  },
  {
   "cell_type": "markdown",
   "metadata": {},
   "source": [
    "- 90.6% of patients that did not have a scholarship showed up for their appointment.\n",
    "- Only 9.4% of patients that have a scholarship showed up for their appointment.\n",
    "- It is important to note that close to 100,000 patients have not enrolled for the Brasilian welfare program Bolsa Família. Hence the statistics."
   ]
  },
  {
   "cell_type": "markdown",
   "metadata": {},
   "source": [
    "### Is there a relationship of show up rate and different disease factors?"
   ]
  },
  {
   "cell_type": "code",
   "execution_count": 52,
   "metadata": {},
   "outputs": [
    {
     "data": {
      "text/plain": [
       "Text(0, 0.5, 'No of appointments')"
      ]
     },
     "execution_count": 52,
     "metadata": {},
     "output_type": "execute_result"
    },
    {
     "data": {
      "image/png": "[encoded data removed]",
      "text/plain": [
       "<Figure size 432x288 with 1 Axes>"
      ]
     },
     "metadata": {
      "needs_background": "light"
     },
     "output_type": "display_data"
    }
   ],
   "source": [
    "# relationship with diabetes\n",
    "df_new_appoint['no_show'].groupby(df_new_appoint['diabetes']).value_counts().unstack('no_show').plot(kind='bar', width=0.8)\n",
    "# Add title and format it\n",
    "plt.title('Comparison of diabetes and show up rate')\n",
    "plt.ylabel('No of appointments')"
   ]
  },
  {
   "cell_type": "markdown",
   "metadata": {},
   "source": [
    "- Majority of the patients without diabetes showed up for their appointment.\n",
    "- More patients who have diabetes also showed up for their appointment."
   ]
  },
  {
   "cell_type": "code",
   "execution_count": 60,
   "metadata": {},
   "outputs": [],
   "source": [
    "# Let us create a function for the rest of the plots to prevent code repeat \n",
    "def bar_plot(df_new_appoint, variable,kind='bar'):\n",
    "    df_new_appoint['no_show'].groupby(df_new_appoint[variable]).value_counts().unstack('no_show').plot(kind=kind)\n",
    "    "
   ]
  },
  {
   "cell_type": "code",
   "execution_count": 64,
   "metadata": {},
   "outputs": [
    {
     "data": {
      "text/plain": [
       "Text(0, 0.5, 'No of appointments')"
      ]
     },
     "execution_count": 64,
     "metadata": {},
     "output_type": "execute_result"
    },
    {
     "data": {
      "image/png": "[encoded data removed]",
      "text/plain": [
       "<Figure size 432x288 with 1 Axes>"
      ]
     },
     "metadata": {
      "needs_background": "light"
     },
     "output_type": "display_data"
    }
   ],
   "source": [
    "# Relationship with alcoholism\n",
    "bar_plot(df_new_appoint, 'alcoholism')\n",
    "plt.title('Comparison of alcoholism and show up rate')\n",
    "plt.ylabel('No of appointments')"
   ]
  },
  {
   "cell_type": "markdown",
   "metadata": {},
   "source": [
    "- Most of the patients who do not have alcoholism showed up for their appointment.\n",
    "- Seems like most of those who have alcoholism also showed up for their appointment."
   ]
  },
  {
   "cell_type": "code",
   "execution_count": 65,
   "metadata": {},
   "outputs": [
    {
     "data": {
      "text/plain": [
       "Text(0, 0.5, 'No of appointments')"
      ]
     },
     "execution_count": 65,
     "metadata": {},
     "output_type": "execute_result"
    },
    {
     "data": {
      "image/png": "[encoded data removed]",
      "text/plain": [
       "<Figure size 432x288 with 1 Axes>"
      ]
     },
     "metadata": {
      "needs_background": "light"
     },
     "output_type": "display_data"
    }
   ],
   "source": [
    "# Relationship with hypertension and show up rate\n",
    "bar_plot(df_new_appoint, 'hypertension')\n",
    "plt.title('Comparison of hypertension and show up rate')\n",
    "plt.ylabel('No of appointments')"
   ]
  },
  {
   "cell_type": "markdown",
   "metadata": {},
   "source": [
    "- Most of the patients who do not have hypertension showed up for their appointment.\n",
    "- Seems like most of those who have hypertension also showed up for their appointment."
   ]
  },
  {
   "cell_type": "code",
   "execution_count": 66,
   "metadata": {},
   "outputs": [
    {
     "data": {
      "text/plain": [
       "Text(0, 0.5, 'No of appointments')"
      ]
     },
     "execution_count": 66,
     "metadata": {},
     "output_type": "execute_result"
    },
    {
     "data": {
      "image/png": "[encoded data removed]",
      "text/plain": [
       "<Figure size 432x288 with 1 Axes>"
      ]
     },
     "metadata": {
      "needs_background": "light"
     },
     "output_type": "display_data"
    }
   ],
   "source": [
    "# Relationship with handcap and show up rate\n",
    "bar_plot(df_new_appoint, 'handcap')\n",
    "plt.title('Comparison of handcap and show up rate')\n",
    "plt.ylabel('No of appointments')"
   ]
  },
  {
   "cell_type": "markdown",
   "metadata": {},
   "source": [
    "- Most of the patients who are not handcapped showed up for their appointment."
   ]
  },
  {
   "cell_type": "markdown",
   "metadata": {},
   "source": [
    "<a id='conclusions'></a>\n",
    "## Conclusions"
   ]
  },
  {
   "cell_type": "markdown",
   "metadata": {},
   "source": [
    "- Gender: It seems that more female patients are missing appointments compared to the male patients.\n",
    "- Patients who did not enroll in the Brasilian welfare program Bolsa Familia showed up more than those who enrolled in it.However it is important to not that majority of the patients did not enroll for the program.\n",
    "- Hospitals in the neigborhoods (**PARQUE,AEROPORTO and ILHA DO FRADE**) have the least number of patients that show up for appointments. We would need further insight on this by getting more data on the particular areas.\n",
    "- Most patients who did not receive an SMS showed up for their appointment.\n",
    "- Most patients do not have the diseases in the dataset i.e. diabetes,hypertesion,handcap,alcoholism. However most of those who do, do show up for their appointments. And most of those who do not have the conditions also do show up for thei appointment.\n",
    "\n",
    "#### Limitations\n",
    "- The gender of patients is imbalanced. We however hanlded this by comparing gender comprehensively so as to try and get conclusions thet were viable.\n"
   ]
  }
 ],
 "metadata": {
  "kernelspec": {
   "display_name": "Python 3 (ipykernel)",
   "language": "python",
   "name": "python3"
  },
  "language_info": {
   "codemirror_mode": {
    "name": "ipython",
    "version": 3
   },
   "file_extension": ".py",
   "mimetype": "text/x-python",
   "name": "python",
   "nbconvert_exporter": "python",
   "pygments_lexer": "ipython3",
   "version": "3.9.12"
  }
 },
 "nbformat": 4,
 "nbformat_minor": 2
}
